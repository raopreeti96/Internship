{
 "cells": [
  {
   "cell_type": "markdown",
   "id": "d97d82db",
   "metadata": {},
   "source": [
    "# Q1: Write a python program to scrape data for “Data Analyst” Job position in “Bangalore” location. Youhave to scrape the job-title, job-location, company_name, experience_required. You have to scrape first 10 jobs data.\n",
    "This task will be done in following steps:\n",
    "\n",
    "1.First get the webpage https://www.naukri.com/\n",
    "\n",
    "2.Enter “Data Analyst” in “Skill, Designations, Companies” field and enter “Bangalore” in “enter the\n",
    "\n",
    "location” field.\n",
    "\n",
    "3.Then click the search button.\n",
    "\n",
    "4.Then scrape the data for the first 10 jobs results you get.\n",
    "\n",
    "5.Finally create a dataframe of the scraped data"
   ]
  },
  {
   "cell_type": "code",
   "execution_count": 1,
   "id": "16347d91",
   "metadata": {},
   "outputs": [
    {
     "name": "stdout",
     "output_type": "stream",
     "text": [
      "Requirement already satisfied: selenium in c:\\users\\hp\\anaconda3\\lib\\site-packages (4.8.3)\n",
      "Requirement already satisfied: trio-websocket~=0.9 in c:\\users\\hp\\anaconda3\\lib\\site-packages (from selenium) (0.10.2)\n",
      "Requirement already satisfied: urllib3[socks]~=1.26 in c:\\users\\hp\\anaconda3\\lib\\site-packages (from selenium) (1.26.9)\n",
      "Requirement already satisfied: trio~=0.17 in c:\\users\\hp\\anaconda3\\lib\\site-packages (from selenium) (0.22.0)\n",
      "Requirement already satisfied: certifi>=2021.10.8 in c:\\users\\hp\\anaconda3\\lib\\site-packages (from selenium) (2021.10.8)\n",
      "Requirement already satisfied: attrs>=19.2.0 in c:\\users\\hp\\anaconda3\\lib\\site-packages (from trio~=0.17->selenium) (21.4.0)\n",
      "Requirement already satisfied: sortedcontainers in c:\\users\\hp\\anaconda3\\lib\\site-packages (from trio~=0.17->selenium) (2.4.0)\n",
      "Requirement already satisfied: sniffio in c:\\users\\hp\\anaconda3\\lib\\site-packages (from trio~=0.17->selenium) (1.2.0)\n",
      "Requirement already satisfied: exceptiongroup>=1.0.0rc9 in c:\\users\\hp\\anaconda3\\lib\\site-packages (from trio~=0.17->selenium) (1.1.1)\n",
      "Requirement already satisfied: cffi>=1.14 in c:\\users\\hp\\anaconda3\\lib\\site-packages (from trio~=0.17->selenium) (1.15.0)\n",
      "Requirement already satisfied: async-generator>=1.9 in c:\\users\\hp\\anaconda3\\lib\\site-packages (from trio~=0.17->selenium) (1.10)\n",
      "Requirement already satisfied: outcome in c:\\users\\hp\\anaconda3\\lib\\site-packages (from trio~=0.17->selenium) (1.2.0)\n",
      "Requirement already satisfied: idna in c:\\users\\hp\\anaconda3\\lib\\site-packages (from trio~=0.17->selenium) (3.3)\n",
      "Requirement already satisfied: pycparser in c:\\users\\hp\\anaconda3\\lib\\site-packages (from cffi>=1.14->trio~=0.17->selenium) (2.21)\n",
      "Requirement already satisfied: wsproto>=0.14 in c:\\users\\hp\\anaconda3\\lib\\site-packages (from trio-websocket~=0.9->selenium) (1.2.0)\n",
      "Requirement already satisfied: PySocks!=1.5.7,<2.0,>=1.5.6 in c:\\users\\hp\\anaconda3\\lib\\site-packages (from urllib3[socks]~=1.26->selenium) (1.7.1)\n",
      "Requirement already satisfied: h11<1,>=0.9.0 in c:\\users\\hp\\anaconda3\\lib\\site-packages (from wsproto>=0.14->trio-websocket~=0.9->selenium) (0.14.0)\n"
     ]
    }
   ],
   "source": [
    "!pip install selenium"
   ]
  },
  {
   "cell_type": "code",
   "execution_count": 2,
   "id": "dba3eede",
   "metadata": {},
   "outputs": [],
   "source": [
    "import selenium\n",
    "import pandas as pd\n",
    "from selenium import webdriver\n",
    "import warnings\n",
    "warnings.filterwarnings('ignore')\n",
    "from selenium.webdriver.common.by import By\n",
    "import time"
   ]
  },
  {
   "cell_type": "code",
   "execution_count": 3,
   "id": "580f0af5",
   "metadata": {},
   "outputs": [
    {
     "data": {
      "text/plain": [
       "<selenium.webdriver.chrome.webdriver.WebDriver (session=\"96b59c0c365de4c502b1553dd957e17a\")>"
      ]
     },
     "execution_count": 3,
     "metadata": {},
     "output_type": "execute_result"
    }
   ],
   "source": [
    "driver=webdriver.Chrome(r\"C:\\Users\\HP\\Desktop\\chromedriver.exe\")\n",
    "driver"
   ]
  },
  {
   "cell_type": "code",
   "execution_count": 4,
   "id": "4426eff4",
   "metadata": {},
   "outputs": [],
   "source": [
    "#opening the naukri page on automated chrome browser\n",
    "driver.get(\"https://www.naukri.com/\")"
   ]
  },
  {
   "cell_type": "code",
   "execution_count": 5,
   "id": "f748e424",
   "metadata": {},
   "outputs": [],
   "source": [
    "#entering the designation and location as required in the question\n",
    "designation=driver.find_element(By.CLASS_NAME,\"suggestor-input \")\n",
    "designation.send_keys('Data Analyst')"
   ]
  },
  {
   "cell_type": "code",
   "execution_count": 6,
   "id": "6011b528",
   "metadata": {},
   "outputs": [],
   "source": [
    "location=driver.find_element(By.XPATH,\"/html/body/div[1]/div[7]/div/div/div[5]/div/div/div[1]/div[1]/div/input\")\n",
    "location.send_keys('Bangalore')"
   ]
  },
  {
   "cell_type": "code",
   "execution_count": 7,
   "id": "5cc595d9",
   "metadata": {},
   "outputs": [],
   "source": [
    "search=driver.find_element(By.CLASS_NAME,\"qsbSubmit\")\n",
    "search.click()"
   ]
  },
  {
   "cell_type": "code",
   "execution_count": 16,
   "id": "6bab0a9f",
   "metadata": {},
   "outputs": [
    {
     "data": {
      "text/plain": [
       "[['Data Analyst'],\n",
       " ['Data Analyst'],\n",
       " ['Data Analyst'],\n",
       " ['Data Analyst - FinTech'],\n",
       " ['Data Analyst - Insurance'],\n",
       " ['Data Analyst III'],\n",
       " ['Data Analyst'],\n",
       " ['Data Analyst'],\n",
       " ['HCL is hiring Data Analyst - Chennai'],\n",
       " ['Data Analyst']]"
      ]
     },
     "execution_count": 16,
     "metadata": {},
     "output_type": "execute_result"
    }
   ],
   "source": [
    "#Lets exetract all web elements having job tittles\n",
    "job_title=[]\n",
    "tittle_tags=driver.find_elements(By.XPATH,'//a[@class=\"title ellipsis\"]')\n",
    "for i in tittle_tags:\n",
    "    job_title.append(i.text.split(\"[]\"))\n",
    "job_title=job_title[0:10]\n",
    "job_title"
   ]
  },
  {
   "cell_type": "code",
   "execution_count": 17,
   "id": "dbad5acc",
   "metadata": {},
   "outputs": [
    {
     "data": {
      "text/plain": [
       "['Pune',\n",
       " 'Mumbai (All Areas)',\n",
       " 'Mumbai(Vikhroli), Mumbai (All Areas)',\n",
       " 'Noida, Ghaziabad, Faridabad, Gurgaon/Gurugram, Delhi / NCR',\n",
       " 'Mumbai',\n",
       " 'Bangalore/Bengaluru',\n",
       " 'Mumbai (All Areas)(Indira Nagar +1)',\n",
       " 'Hyderabad/Secunderabad(Nanakramguda)',\n",
       " 'Chennai',\n",
       " 'Bangalore/Bengaluru']"
      ]
     },
     "execution_count": 17,
     "metadata": {},
     "output_type": "execute_result"
    }
   ],
   "source": [
    "# Lets exetract all web elements having job location\n",
    "location = []\n",
    "locn_tags = driver.find_elements(By.XPATH,'//span[@class=\"ellipsis fleft locWdth\"]')\n",
    "for i in locn_tags:\n",
    "    location.append(i.text)\n",
    "location=location[0:10]\n",
    "location"
   ]
  },
  {
   "cell_type": "code",
   "execution_count": 18,
   "id": "fb4adf53",
   "metadata": {},
   "outputs": [
    {
     "data": {
      "text/plain": [
       "[['Randstad India'],\n",
       " ['ICICI Lombard'],\n",
       " ['Cohire Solutions'],\n",
       " ['Primo Hiring'],\n",
       " ['Serving Skill'],\n",
       " ['Walmart'],\n",
       " ['Gosource Digihub'],\n",
       " ['The Dollar Business'],\n",
       " ['HCLTech'],\n",
       " ['Clarivate']]"
      ]
     },
     "execution_count": 18,
     "metadata": {},
     "output_type": "execute_result"
    }
   ],
   "source": [
    "#Lets exetract all web elements having Company Name\n",
    "company_name=[]\n",
    "tittle_tag=driver.find_elements(By.XPATH,'//a[@class=\"subTitle ellipsis fleft\"]')\n",
    "for i in tittle_tag:\n",
    "    company_name.append(i.text.split(\"[]\"))\n",
    "company_name=company_name[0:10]\n",
    "company_name"
   ]
  },
  {
   "cell_type": "code",
   "execution_count": 11,
   "id": "cc9c1fd1",
   "metadata": {},
   "outputs": [
    {
     "data": {
      "text/plain": [
       "[['3-7 Yrs'],\n",
       " ['2-4 Yrs'],\n",
       " ['1-5 Yrs'],\n",
       " ['3-6 Yrs'],\n",
       " ['2-6 Yrs'],\n",
       " ['1-4 Yrs'],\n",
       " ['6-11 Yrs'],\n",
       " ['2-3 Yrs'],\n",
       " ['2-3 Yrs'],\n",
       " ['2-7 Yrs']]"
      ]
     },
     "execution_count": 11,
     "metadata": {},
     "output_type": "execute_result"
    }
   ],
   "source": [
    "#Lets exetract all web elements having experience_required.\n",
    "exp_req=[]\n",
    "tittle_tag=driver.find_elements(By.XPATH,'//span[@class=\"ellipsis fleft expwdth\"]')\n",
    "for i in tittle_tag:\n",
    "    exp_req.append(i.text.split(\"[]\"))\n",
    "exp_req=exp_req[0:10]\n",
    "exp_req"
   ]
  },
  {
   "cell_type": "code",
   "execution_count": 19,
   "id": "eca08ca3",
   "metadata": {},
   "outputs": [
    {
     "data": {
      "text/html": [
       "<div>\n",
       "<style scoped>\n",
       "    .dataframe tbody tr th:only-of-type {\n",
       "        vertical-align: middle;\n",
       "    }\n",
       "\n",
       "    .dataframe tbody tr th {\n",
       "        vertical-align: top;\n",
       "    }\n",
       "\n",
       "    .dataframe thead th {\n",
       "        text-align: right;\n",
       "    }\n",
       "</style>\n",
       "<table border=\"1\" class=\"dataframe\">\n",
       "  <thead>\n",
       "    <tr style=\"text-align: right;\">\n",
       "      <th></th>\n",
       "      <th>Job Tittle</th>\n",
       "      <th>Job Location</th>\n",
       "      <th>Company Name</th>\n",
       "      <th>Experiance Required</th>\n",
       "    </tr>\n",
       "  </thead>\n",
       "  <tbody>\n",
       "    <tr>\n",
       "      <th>0</th>\n",
       "      <td>[Data Analyst]</td>\n",
       "      <td>Pune</td>\n",
       "      <td>[Randstad India]</td>\n",
       "      <td>[3-7 Yrs]</td>\n",
       "    </tr>\n",
       "    <tr>\n",
       "      <th>1</th>\n",
       "      <td>[Data Analyst]</td>\n",
       "      <td>Mumbai (All Areas)</td>\n",
       "      <td>[ICICI Lombard]</td>\n",
       "      <td>[2-4 Yrs]</td>\n",
       "    </tr>\n",
       "    <tr>\n",
       "      <th>2</th>\n",
       "      <td>[Data Analyst]</td>\n",
       "      <td>Mumbai(Vikhroli), Mumbai (All Areas)</td>\n",
       "      <td>[Cohire Solutions]</td>\n",
       "      <td>[1-5 Yrs]</td>\n",
       "    </tr>\n",
       "    <tr>\n",
       "      <th>3</th>\n",
       "      <td>[Data Analyst - FinTech]</td>\n",
       "      <td>Noida, Ghaziabad, Faridabad, Gurgaon/Gurugram,...</td>\n",
       "      <td>[Primo Hiring]</td>\n",
       "      <td>[3-6 Yrs]</td>\n",
       "    </tr>\n",
       "    <tr>\n",
       "      <th>4</th>\n",
       "      <td>[Data Analyst - Insurance]</td>\n",
       "      <td>Mumbai</td>\n",
       "      <td>[Serving Skill]</td>\n",
       "      <td>[2-6 Yrs]</td>\n",
       "    </tr>\n",
       "    <tr>\n",
       "      <th>5</th>\n",
       "      <td>[Data Analyst III]</td>\n",
       "      <td>Bangalore/Bengaluru</td>\n",
       "      <td>[Walmart]</td>\n",
       "      <td>[1-4 Yrs]</td>\n",
       "    </tr>\n",
       "    <tr>\n",
       "      <th>6</th>\n",
       "      <td>[Data Analyst]</td>\n",
       "      <td>Mumbai (All Areas)(Indira Nagar +1)</td>\n",
       "      <td>[Gosource Digihub]</td>\n",
       "      <td>[6-11 Yrs]</td>\n",
       "    </tr>\n",
       "    <tr>\n",
       "      <th>7</th>\n",
       "      <td>[Data Analyst]</td>\n",
       "      <td>Hyderabad/Secunderabad(Nanakramguda)</td>\n",
       "      <td>[The Dollar Business]</td>\n",
       "      <td>[2-3 Yrs]</td>\n",
       "    </tr>\n",
       "    <tr>\n",
       "      <th>8</th>\n",
       "      <td>[HCL is hiring Data Analyst - Chennai]</td>\n",
       "      <td>Chennai</td>\n",
       "      <td>[HCLTech]</td>\n",
       "      <td>[2-3 Yrs]</td>\n",
       "    </tr>\n",
       "    <tr>\n",
       "      <th>9</th>\n",
       "      <td>[Data Analyst]</td>\n",
       "      <td>Bangalore/Bengaluru</td>\n",
       "      <td>[Clarivate]</td>\n",
       "      <td>[2-7 Yrs]</td>\n",
       "    </tr>\n",
       "  </tbody>\n",
       "</table>\n",
       "</div>"
      ],
      "text/plain": [
       "                               Job Tittle  \\\n",
       "0                          [Data Analyst]   \n",
       "1                          [Data Analyst]   \n",
       "2                          [Data Analyst]   \n",
       "3                [Data Analyst - FinTech]   \n",
       "4              [Data Analyst - Insurance]   \n",
       "5                      [Data Analyst III]   \n",
       "6                          [Data Analyst]   \n",
       "7                          [Data Analyst]   \n",
       "8  [HCL is hiring Data Analyst - Chennai]   \n",
       "9                          [Data Analyst]   \n",
       "\n",
       "                                        Job Location           Company Name  \\\n",
       "0                                               Pune       [Randstad India]   \n",
       "1                                 Mumbai (All Areas)        [ICICI Lombard]   \n",
       "2               Mumbai(Vikhroli), Mumbai (All Areas)     [Cohire Solutions]   \n",
       "3  Noida, Ghaziabad, Faridabad, Gurgaon/Gurugram,...         [Primo Hiring]   \n",
       "4                                             Mumbai        [Serving Skill]   \n",
       "5                                Bangalore/Bengaluru              [Walmart]   \n",
       "6                Mumbai (All Areas)(Indira Nagar +1)     [Gosource Digihub]   \n",
       "7               Hyderabad/Secunderabad(Nanakramguda)  [The Dollar Business]   \n",
       "8                                            Chennai              [HCLTech]   \n",
       "9                                Bangalore/Bengaluru            [Clarivate]   \n",
       "\n",
       "  Experiance Required  \n",
       "0           [3-7 Yrs]  \n",
       "1           [2-4 Yrs]  \n",
       "2           [1-5 Yrs]  \n",
       "3           [3-6 Yrs]  \n",
       "4           [2-6 Yrs]  \n",
       "5           [1-4 Yrs]  \n",
       "6          [6-11 Yrs]  \n",
       "7           [2-3 Yrs]  \n",
       "8           [2-3 Yrs]  \n",
       "9           [2-7 Yrs]  "
      ]
     },
     "execution_count": 19,
     "metadata": {},
     "output_type": "execute_result"
    }
   ],
   "source": [
    "#Lets Create Data Frame\n",
    "import pandas as pd\n",
    "\n",
    "data_analyst=pd.DataFrame()\n",
    "data_analyst['Job Tittle']=job_title\n",
    "data_analyst['Job Location']=location\n",
    "data_analyst['Company Name']=company_name\n",
    "data_analyst['Experiance Required']=exp_req\n",
    "data_analyst"
   ]
  },
  {
   "cell_type": "markdown",
   "id": "5b13eb05",
   "metadata": {},
   "source": [
    "# Q2: Write a python program to scrape data for “Data Scientist” Job position in “Bangalore” location. Youhave to scrape the job-title, job-location, company_name. You have to scrape first 10 jobs data."
   ]
  },
  {
   "cell_type": "markdown",
   "id": "fc2c300f",
   "metadata": {},
   "source": [
    "This task will be done in following steps:\n",
    "\n",
    "1.First get the webpage https://www.naukri.com/\n",
    "\n",
    "2.Enter “Data Scientist” in “Skill, Designations, Companies” field and enter “Bangalore” in “enter the location” field.\n",
    "\n",
    "3.Then click the search button.\n",
    "\n",
    "4.Then scrape the data for the first 10 jobs results you get.\n",
    "\n",
    "5.Finally create a dataframe of the scraped data."
   ]
  },
  {
   "cell_type": "code",
   "execution_count": 13,
   "id": "b4aa1472",
   "metadata": {},
   "outputs": [],
   "source": [
    "url=\"https://www.naukri.com/\"\n",
    "driver.get(url)"
   ]
  },
  {
   "cell_type": "code",
   "execution_count": 14,
   "id": "bf085b47",
   "metadata": {},
   "outputs": [],
   "source": [
    "#Finding the web element for search \"Data Analyst\"\n",
    "search_job=driver.find_element(By.CLASS_NAME,\"suggestor-input\")\n",
    "search_job.send_keys(\"Data Scientist\")"
   ]
  },
  {
   "cell_type": "code",
   "execution_count": 21,
   "id": "fc91050f",
   "metadata": {},
   "outputs": [],
   "source": [
    "location=driver.find_element(By.XPATH,\"/html/body/div[1]/div[6]/div/div/div[1]/div/div/div[1]/div[1]/div/input\")\n",
    "location.send_keys('Bangalore')"
   ]
  },
  {
   "cell_type": "code",
   "execution_count": 22,
   "id": "8e4ff101",
   "metadata": {},
   "outputs": [],
   "source": [
    "#Clicking using absolute xpath function\n",
    "search_btn=driver.find_element(By.CLASS_NAME,\"qsbSubmit\")\n",
    "search_btn.click()"
   ]
  },
  {
   "cell_type": "markdown",
   "id": "9ad259a6",
   "metadata": {},
   "source": [
    "# Extracting Job Titles"
   ]
  },
  {
   "cell_type": "code",
   "execution_count": 27,
   "id": "bc55b37b",
   "metadata": {},
   "outputs": [
    {
     "data": {
      "text/plain": [
       "[['Data Science Professional - IBM SPSS Statistics module'],\n",
       " ['Data Science Specialist'],\n",
       " ['Analystics & Modeling Specialist'],\n",
       " ['Senior data scientist'],\n",
       " ['Data Scientist_NLP'],\n",
       " ['Data Scientist'],\n",
       " ['Manager - Innovations Hub - Machine Learning'],\n",
       " ['Machine Learning (AI) Architect'],\n",
       " ['Data Scientist'],\n",
       " ['Staff Data Scientist']]"
      ]
     },
     "execution_count": 27,
     "metadata": {},
     "output_type": "execute_result"
    }
   ],
   "source": [
    "#Lets exetract all web elements having job tittles\n",
    "job_title=[]\n",
    "tittle_tags=driver.find_elements(By.XPATH,'//a[@class=\"title ellipsis\"]')\n",
    "for i in tittle_tags:\n",
    "    job_title.append(i.text.split(\"[]\"))\n",
    "job_title=job_title[0:10]\n",
    "job_title"
   ]
  },
  {
   "cell_type": "code",
   "execution_count": 29,
   "id": "5c597752",
   "metadata": {},
   "outputs": [
    {
     "data": {
      "text/plain": [
       "['Noida, Mumbai, Pune, Chennai, Bangalore/Bengaluru',\n",
       " 'Kolkata, Mumbai, Hyderabad/Secunderabad, Pune, Chennai, Bangalore/Bengaluru',\n",
       " 'Kolkata, Mumbai, Hyderabad/Secunderabad, Pune, Chennai, Bangalore/Bengaluru',\n",
       " 'Mumbai, Pune, Chennai, Gurgaon/Gurugram, Bangalore/Bengaluru',\n",
       " 'Mumbai, Pune, Chennai, Gurgaon/Gurugram, Bangalore/Bengaluru',\n",
       " 'Mumbai, Pune, Chennai, Gurgaon/Gurugram, Bangalore/Bengaluru',\n",
       " 'Mumbai, Hyderabad/Secunderabad, Bangalore/Bengaluru',\n",
       " 'Kolkata, Mumbai, New Delhi, Hyderabad/Secunderabad, Pune, Chennai, Bangalore/Bengaluru',\n",
       " 'Temp. WFH - Kochi/Cochin, Kolkata, Hyderabad/Secunderabad, Pune, Ahmedabad, Gurgaon/Gurugram, Chennai, Coimbatore, Bangalore/Bengaluru',\n",
       " 'Mumbai, Bangalore/Bengaluru']"
      ]
     },
     "execution_count": 29,
     "metadata": {},
     "output_type": "execute_result"
    }
   ],
   "source": [
    "# Lets exetract all web elements having job location\n",
    "location = []\n",
    "locn_tags = driver.find_elements(By.XPATH,'//span[@class=\"ellipsis fleft locWdth\"]')\n",
    "for i in locn_tags:\n",
    "    location.append(i.text)\n",
    "location=location[0:10]\n",
    "location"
   ]
  },
  {
   "cell_type": "code",
   "execution_count": 30,
   "id": "e6a845ed",
   "metadata": {},
   "outputs": [
    {
     "data": {
      "text/plain": [
       "[['Hexaware Technologies'],\n",
       " ['Accenture'],\n",
       " ['Accenture'],\n",
       " ['Fractal Analytics'],\n",
       " ['Fractal Analytics'],\n",
       " ['Fractal Analytics'],\n",
       " ['PwC'],\n",
       " ['Persistent'],\n",
       " ['Cognizant'],\n",
       " ['Baker Hughes']]"
      ]
     },
     "execution_count": 30,
     "metadata": {},
     "output_type": "execute_result"
    }
   ],
   "source": [
    "#Lets exetract all web elements having Company Name\n",
    "company_name=[]\n",
    "tittle_tag=driver.find_elements(By.XPATH,'//a[@class=\"subTitle ellipsis fleft\"]')\n",
    "for i in tittle_tag:\n",
    "    company_name.append(i.text.split(\"[]\"))\n",
    "company_name=company_name[0:10]\n",
    "company_name"
   ]
  },
  {
   "cell_type": "code",
   "execution_count": 31,
   "id": "fa5687bc",
   "metadata": {},
   "outputs": [
    {
     "data": {
      "text/html": [
       "<div>\n",
       "<style scoped>\n",
       "    .dataframe tbody tr th:only-of-type {\n",
       "        vertical-align: middle;\n",
       "    }\n",
       "\n",
       "    .dataframe tbody tr th {\n",
       "        vertical-align: top;\n",
       "    }\n",
       "\n",
       "    .dataframe thead th {\n",
       "        text-align: right;\n",
       "    }\n",
       "</style>\n",
       "<table border=\"1\" class=\"dataframe\">\n",
       "  <thead>\n",
       "    <tr style=\"text-align: right;\">\n",
       "      <th></th>\n",
       "      <th>Job Title</th>\n",
       "      <th>Job Location</th>\n",
       "      <th>Company Name</th>\n",
       "    </tr>\n",
       "  </thead>\n",
       "  <tbody>\n",
       "    <tr>\n",
       "      <th>0</th>\n",
       "      <td>[Data Science Professional - IBM SPSS Statisti...</td>\n",
       "      <td>Noida, Mumbai, Pune, Chennai, Bangalore/Bengaluru</td>\n",
       "      <td>[Hexaware Technologies]</td>\n",
       "    </tr>\n",
       "    <tr>\n",
       "      <th>1</th>\n",
       "      <td>[Data Science Specialist]</td>\n",
       "      <td>Kolkata, Mumbai, Hyderabad/Secunderabad, Pune,...</td>\n",
       "      <td>[Accenture]</td>\n",
       "    </tr>\n",
       "    <tr>\n",
       "      <th>2</th>\n",
       "      <td>[Analystics &amp; Modeling Specialist]</td>\n",
       "      <td>Kolkata, Mumbai, Hyderabad/Secunderabad, Pune,...</td>\n",
       "      <td>[Accenture]</td>\n",
       "    </tr>\n",
       "    <tr>\n",
       "      <th>3</th>\n",
       "      <td>[Senior data scientist]</td>\n",
       "      <td>Mumbai, Pune, Chennai, Gurgaon/Gurugram, Banga...</td>\n",
       "      <td>[Fractal Analytics]</td>\n",
       "    </tr>\n",
       "    <tr>\n",
       "      <th>4</th>\n",
       "      <td>[Data Scientist_NLP]</td>\n",
       "      <td>Mumbai, Pune, Chennai, Gurgaon/Gurugram, Banga...</td>\n",
       "      <td>[Fractal Analytics]</td>\n",
       "    </tr>\n",
       "    <tr>\n",
       "      <th>5</th>\n",
       "      <td>[Data Scientist]</td>\n",
       "      <td>Mumbai, Pune, Chennai, Gurgaon/Gurugram, Banga...</td>\n",
       "      <td>[Fractal Analytics]</td>\n",
       "    </tr>\n",
       "    <tr>\n",
       "      <th>6</th>\n",
       "      <td>[Manager - Innovations Hub - Machine Learning]</td>\n",
       "      <td>Mumbai, Hyderabad/Secunderabad, Bangalore/Beng...</td>\n",
       "      <td>[PwC]</td>\n",
       "    </tr>\n",
       "    <tr>\n",
       "      <th>7</th>\n",
       "      <td>[Machine Learning (AI) Architect]</td>\n",
       "      <td>Kolkata, Mumbai, New Delhi, Hyderabad/Secunder...</td>\n",
       "      <td>[Persistent]</td>\n",
       "    </tr>\n",
       "    <tr>\n",
       "      <th>8</th>\n",
       "      <td>[Data Scientist]</td>\n",
       "      <td>Temp. WFH - Kochi/Cochin, Kolkata, Hyderabad/S...</td>\n",
       "      <td>[Cognizant]</td>\n",
       "    </tr>\n",
       "    <tr>\n",
       "      <th>9</th>\n",
       "      <td>[Staff Data Scientist]</td>\n",
       "      <td>Mumbai, Bangalore/Bengaluru</td>\n",
       "      <td>[Baker Hughes]</td>\n",
       "    </tr>\n",
       "  </tbody>\n",
       "</table>\n",
       "</div>"
      ],
      "text/plain": [
       "                                           Job Title  \\\n",
       "0  [Data Science Professional - IBM SPSS Statisti...   \n",
       "1                          [Data Science Specialist]   \n",
       "2                 [Analystics & Modeling Specialist]   \n",
       "3                            [Senior data scientist]   \n",
       "4                               [Data Scientist_NLP]   \n",
       "5                                   [Data Scientist]   \n",
       "6     [Manager - Innovations Hub - Machine Learning]   \n",
       "7                  [Machine Learning (AI) Architect]   \n",
       "8                                   [Data Scientist]   \n",
       "9                             [Staff Data Scientist]   \n",
       "\n",
       "                                        Job Location             Company Name  \n",
       "0  Noida, Mumbai, Pune, Chennai, Bangalore/Bengaluru  [Hexaware Technologies]  \n",
       "1  Kolkata, Mumbai, Hyderabad/Secunderabad, Pune,...              [Accenture]  \n",
       "2  Kolkata, Mumbai, Hyderabad/Secunderabad, Pune,...              [Accenture]  \n",
       "3  Mumbai, Pune, Chennai, Gurgaon/Gurugram, Banga...      [Fractal Analytics]  \n",
       "4  Mumbai, Pune, Chennai, Gurgaon/Gurugram, Banga...      [Fractal Analytics]  \n",
       "5  Mumbai, Pune, Chennai, Gurgaon/Gurugram, Banga...      [Fractal Analytics]  \n",
       "6  Mumbai, Hyderabad/Secunderabad, Bangalore/Beng...                    [PwC]  \n",
       "7  Kolkata, Mumbai, New Delhi, Hyderabad/Secunder...             [Persistent]  \n",
       "8  Temp. WFH - Kochi/Cochin, Kolkata, Hyderabad/S...              [Cognizant]  \n",
       "9                        Mumbai, Bangalore/Bengaluru           [Baker Hughes]  "
      ]
     },
     "execution_count": 31,
     "metadata": {},
     "output_type": "execute_result"
    }
   ],
   "source": [
    "#Lets make DataFrame\n",
    "data_scientist=pd.DataFrame({'Job Title':job_title,\"Job Location\":location,\"Company Name\":company_name})\n",
    "data_scientist"
   ]
  },
  {
   "cell_type": "markdown",
   "id": "ef859bf8",
   "metadata": {},
   "source": [
    "# Q3: In this question you have to scrape data using the filters available on the webpage as shown below:"
   ]
  },
  {
   "cell_type": "markdown",
   "id": "0ca98325",
   "metadata": {},
   "source": [
    "You have to use the location and salary filter.\n",
    "\n",
    "You have to scrape data for “Data Scientist” designation for first 10 job results.\n",
    "\n",
    "You have to scrape the job-title, job-location, company name, experience required.\n",
    "\n",
    "The location filter to be used is “Delhi/NCR”. The salary filter to be used is “3-6” lakhs\n",
    "\n",
    "The task will be done as shown in the below steps:\n",
    "\n",
    "1.first get the webpage https://www.naukri.com/\n",
    "\n",
    "2.Enter “Data Scientist” in “Skill, Designations, and Companies” field.\n",
    "\n",
    "3.Then click the search button.\n",
    "\n",
    "4.Then apply the location filter and salary filter by checking the respective boxes\n",
    "\n",
    "5.Then scrape the data for the first 10 jobs results you get.\n",
    "\n",
    "6.Finally create a dataframe of the scraped data"
   ]
  },
  {
   "cell_type": "code",
   "execution_count": 32,
   "id": "a5d158b8",
   "metadata": {},
   "outputs": [],
   "source": [
    "url=\"https://www.naukri.com/\" # Here i am assigning the link in url namea variable \n",
    "driver.get(url) #here using the get method to access the link"
   ]
  },
  {
   "cell_type": "code",
   "execution_count": 33,
   "id": "bf7085b6",
   "metadata": {},
   "outputs": [],
   "source": [
    "#Finding the web element for search \"Data Analyst\"\n",
    "search_job=driver.find_element(By.CLASS_NAME,\"suggestor-input\")\n",
    "search_job.send_keys(\"Data Scientist\")"
   ]
  },
  {
   "cell_type": "code",
   "execution_count": 34,
   "id": "f700cdbf",
   "metadata": {},
   "outputs": [],
   "source": [
    "#Clicking using absolute xpath function\n",
    "search_btn=driver.find_element(By.CLASS_NAME,\"qsbSubmit\")\n",
    "search_btn.click()"
   ]
  },
  {
   "cell_type": "code",
   "execution_count": 37,
   "id": "35cc40d1",
   "metadata": {},
   "outputs": [],
   "source": [
    "#Clicking using absolute xpath function\n",
    "filter_loc=driver.find_element(By.XPATH,\"/html/body/div[1]/div[6]/div/div/div[1]/div/div/div[1]/div[1]/div/input\")\n",
    "filter_loc.click()"
   ]
  },
  {
   "cell_type": "code",
   "execution_count": 39,
   "id": "eca5f144",
   "metadata": {},
   "outputs": [],
   "source": [
    "#Clicking using absolute xpath function\n",
    "salary_filter=driver.find_element(By.XPATH,\"/html/body/div[1]/div[4]/div/div/section[1]/div[2]/div[5]/div[1]/span\")\n",
    "salary_filter.click()"
   ]
  },
  {
   "cell_type": "code",
   "execution_count": 40,
   "id": "23c01ca6",
   "metadata": {},
   "outputs": [
    {
     "data": {
      "text/plain": [
       "[['Artificial Intelligent Engineer/DataScientist at KualaLumpur Malaysia'],\n",
       " ['Lead Datascientist'],\n",
       " ['DataScientist'],\n",
       " ['Python / Datascientist'],\n",
       " ['DataScientist'],\n",
       " ['Data Scientist'],\n",
       " ['Lead Consultant'],\n",
       " ['Senior Data Scientist'],\n",
       " ['Data Engineer - Smart Building Analytics']]"
      ]
     },
     "execution_count": 40,
     "metadata": {},
     "output_type": "execute_result"
    }
   ],
   "source": [
    "#Lets extract all web elements having Job Title\n",
    "job_title=[]\n",
    "title_tag=driver.find_elements(By.XPATH,'//a[@class=\"title ellipsis\"]')\n",
    "for i in title_tag:\n",
    "    job_title.append(i.text.split(\",\"))\n",
    "job_title=job_title[0:9]\n",
    "job_title"
   ]
  },
  {
   "cell_type": "code",
   "execution_count": 41,
   "id": "b9459a78",
   "metadata": {},
   "outputs": [
    {
     "data": {
      "text/plain": [
       "[['Malaysia'],\n",
       " ['Chennai'],\n",
       " ['Hyderabad/Secunderabad'],\n",
       " ['Kochi/Cochin, Hyderabad/Secunderabad'],\n",
       " ['Chennai'],\n",
       " ['Hyderabad/Secunderabad, Chennai, Bangalore/Bengaluru'],\n",
       " ['Bangalore/Bengaluru'],\n",
       " ['Hyderabad/Secunderabad, Bangalore/Bengaluru'],\n",
       " ['Pune']]"
      ]
     },
     "execution_count": 41,
     "metadata": {},
     "output_type": "execute_result"
    }
   ],
   "source": [
    "# Lets exetract all web elements having job location\n",
    "location = []\n",
    "locn_tags = driver.find_elements(By.XPATH,'//span[@class=\"ellipsis fleft locWdth\"]')\n",
    "for i in locn_tags:\n",
    "    location.append(i.text.split(\"[]\"))\n",
    "location=location[0:9]\n",
    "location"
   ]
  },
  {
   "cell_type": "code",
   "execution_count": 42,
   "id": "2931baf8",
   "metadata": {},
   "outputs": [
    {
     "data": {
      "text/plain": [
       "[['Artificial Intelligent Engineer/DataScientist at KualaLumpur Malaysia'],\n",
       " ['Lead Datascientist'],\n",
       " ['DataScientist'],\n",
       " ['Python / Datascientist'],\n",
       " ['DataScientist'],\n",
       " ['Data Scientist'],\n",
       " ['Lead Consultant'],\n",
       " ['Senior Data Scientist'],\n",
       " ['Data Engineer - Smart Building Analytics']]"
      ]
     },
     "execution_count": 42,
     "metadata": {},
     "output_type": "execute_result"
    }
   ],
   "source": [
    "#Lets extract all web elements having Company Name\n",
    "company_name=[]\n",
    "title_tag=driver.find_elements(By.XPATH,'//a[@class=\"title ellipsis\"]')\n",
    "for i in title_tag:\n",
    "    company_name.append(i.text.split(\",\"))\n",
    "company_name=company_name[0:9]\n",
    "company_name"
   ]
  },
  {
   "cell_type": "code",
   "execution_count": 43,
   "id": "faefa9f5",
   "metadata": {},
   "outputs": [
    {
     "data": {
      "text/plain": [
       "[['5-10 Yrs'],\n",
       " ['5-10 Yrs'],\n",
       " ['8-11 Yrs'],\n",
       " ['3-5 Yrs'],\n",
       " ['4-8 Yrs'],\n",
       " ['5-10 Yrs'],\n",
       " ['6-8 Yrs'],\n",
       " ['15-18 Yrs'],\n",
       " ['2-5 Yrs']]"
      ]
     },
     "execution_count": 43,
     "metadata": {},
     "output_type": "execute_result"
    }
   ],
   "source": [
    "#Lets extract all web elements having Company Name\n",
    "exp_req=[]\n",
    "title_tag=driver.find_elements(By.XPATH,'//span[@class=\"ellipsis fleft expwdth\"]')\n",
    "for i in title_tag:\n",
    "    exp_req.append(i.text.split(\",\"))\n",
    "exp_req=exp_req[0:9]\n",
    "exp_req"
   ]
  },
  {
   "cell_type": "code",
   "execution_count": 44,
   "id": "879ce712",
   "metadata": {},
   "outputs": [],
   "source": [
    "import pandas as pd\n",
    "naukri_ds=pd.DataFrame({\"Job Title\":job_title,\"Job Location\":location,\"Company Name\":company_name,\"Experiance Required\":exp_req})"
   ]
  },
  {
   "cell_type": "code",
   "execution_count": 45,
   "id": "e9b4cce6",
   "metadata": {},
   "outputs": [
    {
     "data": {
      "text/html": [
       "<div>\n",
       "<style scoped>\n",
       "    .dataframe tbody tr th:only-of-type {\n",
       "        vertical-align: middle;\n",
       "    }\n",
       "\n",
       "    .dataframe tbody tr th {\n",
       "        vertical-align: top;\n",
       "    }\n",
       "\n",
       "    .dataframe thead th {\n",
       "        text-align: right;\n",
       "    }\n",
       "</style>\n",
       "<table border=\"1\" class=\"dataframe\">\n",
       "  <thead>\n",
       "    <tr style=\"text-align: right;\">\n",
       "      <th></th>\n",
       "      <th>Job Title</th>\n",
       "      <th>Job Location</th>\n",
       "      <th>Company Name</th>\n",
       "      <th>Experiance Required</th>\n",
       "    </tr>\n",
       "  </thead>\n",
       "  <tbody>\n",
       "    <tr>\n",
       "      <th>0</th>\n",
       "      <td>[Artificial Intelligent Engineer/DataScientist...</td>\n",
       "      <td>[Malaysia]</td>\n",
       "      <td>[Artificial Intelligent Engineer/DataScientist...</td>\n",
       "      <td>[5-10 Yrs]</td>\n",
       "    </tr>\n",
       "    <tr>\n",
       "      <th>1</th>\n",
       "      <td>[Lead Datascientist]</td>\n",
       "      <td>[Chennai]</td>\n",
       "      <td>[Lead Datascientist]</td>\n",
       "      <td>[5-10 Yrs]</td>\n",
       "    </tr>\n",
       "    <tr>\n",
       "      <th>2</th>\n",
       "      <td>[DataScientist]</td>\n",
       "      <td>[Hyderabad/Secunderabad]</td>\n",
       "      <td>[DataScientist]</td>\n",
       "      <td>[8-11 Yrs]</td>\n",
       "    </tr>\n",
       "    <tr>\n",
       "      <th>3</th>\n",
       "      <td>[Python / Datascientist]</td>\n",
       "      <td>[Kochi/Cochin, Hyderabad/Secunderabad]</td>\n",
       "      <td>[Python / Datascientist]</td>\n",
       "      <td>[3-5 Yrs]</td>\n",
       "    </tr>\n",
       "    <tr>\n",
       "      <th>4</th>\n",
       "      <td>[DataScientist]</td>\n",
       "      <td>[Chennai]</td>\n",
       "      <td>[DataScientist]</td>\n",
       "      <td>[4-8 Yrs]</td>\n",
       "    </tr>\n",
       "    <tr>\n",
       "      <th>5</th>\n",
       "      <td>[Data Scientist]</td>\n",
       "      <td>[Hyderabad/Secunderabad, Chennai, Bangalore/Be...</td>\n",
       "      <td>[Data Scientist]</td>\n",
       "      <td>[5-10 Yrs]</td>\n",
       "    </tr>\n",
       "    <tr>\n",
       "      <th>6</th>\n",
       "      <td>[Lead Consultant]</td>\n",
       "      <td>[Bangalore/Bengaluru]</td>\n",
       "      <td>[Lead Consultant]</td>\n",
       "      <td>[6-8 Yrs]</td>\n",
       "    </tr>\n",
       "    <tr>\n",
       "      <th>7</th>\n",
       "      <td>[Senior Data Scientist]</td>\n",
       "      <td>[Hyderabad/Secunderabad, Bangalore/Bengaluru]</td>\n",
       "      <td>[Senior Data Scientist]</td>\n",
       "      <td>[15-18 Yrs]</td>\n",
       "    </tr>\n",
       "    <tr>\n",
       "      <th>8</th>\n",
       "      <td>[Data Engineer - Smart Building Analytics]</td>\n",
       "      <td>[Pune]</td>\n",
       "      <td>[Data Engineer - Smart Building Analytics]</td>\n",
       "      <td>[2-5 Yrs]</td>\n",
       "    </tr>\n",
       "  </tbody>\n",
       "</table>\n",
       "</div>"
      ],
      "text/plain": [
       "                                           Job Title  \\\n",
       "0  [Artificial Intelligent Engineer/DataScientist...   \n",
       "1                               [Lead Datascientist]   \n",
       "2                                    [DataScientist]   \n",
       "3                           [Python / Datascientist]   \n",
       "4                                    [DataScientist]   \n",
       "5                                   [Data Scientist]   \n",
       "6                                  [Lead Consultant]   \n",
       "7                            [Senior Data Scientist]   \n",
       "8         [Data Engineer - Smart Building Analytics]   \n",
       "\n",
       "                                        Job Location  \\\n",
       "0                                         [Malaysia]   \n",
       "1                                          [Chennai]   \n",
       "2                           [Hyderabad/Secunderabad]   \n",
       "3             [Kochi/Cochin, Hyderabad/Secunderabad]   \n",
       "4                                          [Chennai]   \n",
       "5  [Hyderabad/Secunderabad, Chennai, Bangalore/Be...   \n",
       "6                              [Bangalore/Bengaluru]   \n",
       "7      [Hyderabad/Secunderabad, Bangalore/Bengaluru]   \n",
       "8                                             [Pune]   \n",
       "\n",
       "                                        Company Name Experiance Required  \n",
       "0  [Artificial Intelligent Engineer/DataScientist...          [5-10 Yrs]  \n",
       "1                               [Lead Datascientist]          [5-10 Yrs]  \n",
       "2                                    [DataScientist]          [8-11 Yrs]  \n",
       "3                           [Python / Datascientist]           [3-5 Yrs]  \n",
       "4                                    [DataScientist]           [4-8 Yrs]  \n",
       "5                                   [Data Scientist]          [5-10 Yrs]  \n",
       "6                                  [Lead Consultant]           [6-8 Yrs]  \n",
       "7                            [Senior Data Scientist]         [15-18 Yrs]  \n",
       "8         [Data Engineer - Smart Building Analytics]           [2-5 Yrs]  "
      ]
     },
     "execution_count": 45,
     "metadata": {},
     "output_type": "execute_result"
    }
   ],
   "source": [
    "naukri_ds"
   ]
  },
  {
   "cell_type": "markdown",
   "id": "65ca47b7",
   "metadata": {},
   "source": [
    "# Q4: Scrape data of first 100 sunglasses listings on flipkart.com. You have to scrape four attributes:"
   ]
  },
  {
   "cell_type": "markdown",
   "id": "0e952cfc",
   "metadata": {},
   "source": [
    "1.Brand\n",
    "\n",
    "2.Product Description\n",
    "\n",
    "3.Price\n",
    "\n",
    "To scrape the data you have to go through following steps:\n",
    "\n",
    "1.Go to Flipkart webpage by url : https://www.flipkart.com/\n",
    "\n",
    "2.Enter “sunglasses” in the search field where “search for products, brands and more” is written and click the search icon\n",
    "\n",
    "3.After that you will reach to the page having a lot of sunglasses. From this page you can scrap the required data as usual.\n",
    "\n",
    "4.After scraping data from the first page, go to the “Next” Button at the bottom other page , then click on it.\n",
    "\n",
    "5.Now scrape data from this page as usual\n",
    "\n",
    "6.Repeat this until you get data for 100 sunglasses."
   ]
  },
  {
   "cell_type": "code",
   "execution_count": 46,
   "id": "67cd76e1",
   "metadata": {},
   "outputs": [],
   "source": [
    "url=\"https://www.flipkart.com/\" # Here i am assigning the link in url name variable \n",
    "driver.get(url) #here using the get method to access the link"
   ]
  },
  {
   "cell_type": "code",
   "execution_count": 47,
   "id": "c8965c3f",
   "metadata": {},
   "outputs": [],
   "source": [
    "#Finding the web element for search \"Sunglass\"\n",
    "search_job=driver.find_element(By.CLASS_NAME,\"_3704LK\")\n",
    "search_job.send_keys(\"sunglasses\")"
   ]
  },
  {
   "cell_type": "code",
   "execution_count": 49,
   "id": "eb417c27",
   "metadata": {},
   "outputs": [],
   "source": [
    "#Clicking using absolute xpath function\n",
    "search_btn=driver.find_element(By.CLASS_NAME,\"_34RNph\")\n",
    "search_btn.click()"
   ]
  },
  {
   "cell_type": "code",
   "execution_count": 50,
   "id": "06fc7ee7",
   "metadata": {},
   "outputs": [],
   "source": [
    "#Lets extract all web elements having 100 Sunglass Brand\n",
    "brands=[]\n",
    "start=0\n",
    "end=3\n",
    "for page in range(start,end):\n",
    "    \n",
    "    title_tag=driver.find_elements(By.XPATH,\"//div[@class='_2WkVRV']\")\n",
    "    for i in title_tag:\n",
    "        brands.append(i.text.split(\",\"))\n",
    "brands=brands[0:100]"
   ]
  },
  {
   "cell_type": "code",
   "execution_count": 51,
   "id": "f88c023e",
   "metadata": {},
   "outputs": [],
   "source": [
    "#Lets extract all web elements having 100 Sunglass Product Discription\n",
    "prod_des=[]\n",
    "start=0\n",
    "end=3\n",
    "for page in range(start,end):\n",
    "    \n",
    "    title_tag=driver.find_elements(By.XPATH,\"//a[@class='IRpwTa']\")\n",
    "    for i in title_tag:\n",
    "        prod_des.append(i.text.split(\",\"))\n",
    "prod_des=prod_des[0:100]"
   ]
  },
  {
   "cell_type": "code",
   "execution_count": 52,
   "id": "dc77d2df",
   "metadata": {},
   "outputs": [],
   "source": [
    "#Lets extract all web elements having 100 Sunglass Price\n",
    "price=[]\n",
    "start=0\n",
    "end=3\n",
    "for page in range(start,end):\n",
    "    \n",
    "    title_tag=driver.find_elements(By.XPATH,\"//div[@class='_30jeq3']\")\n",
    "    for i in title_tag:\n",
    "        price.append(i.text.split(\" \"))\n",
    "price=price[0:100]"
   ]
  },
  {
   "cell_type": "code",
   "execution_count": 53,
   "id": "a2f410fa",
   "metadata": {},
   "outputs": [
    {
     "data": {
      "text/html": [
       "<div>\n",
       "<style scoped>\n",
       "    .dataframe tbody tr th:only-of-type {\n",
       "        vertical-align: middle;\n",
       "    }\n",
       "\n",
       "    .dataframe tbody tr th {\n",
       "        vertical-align: top;\n",
       "    }\n",
       "\n",
       "    .dataframe thead th {\n",
       "        text-align: right;\n",
       "    }\n",
       "</style>\n",
       "<table border=\"1\" class=\"dataframe\">\n",
       "  <thead>\n",
       "    <tr style=\"text-align: right;\">\n",
       "      <th></th>\n",
       "      <th>Sunglass Brands</th>\n",
       "      <th>Production Descripion</th>\n",
       "      <th>Sunglass Price</th>\n",
       "    </tr>\n",
       "  </thead>\n",
       "  <tbody>\n",
       "    <tr>\n",
       "      <th>0</th>\n",
       "      <td>[Dervin]</td>\n",
       "      <td>[UV Protection Wayfarer Sunglasses (Free Size)]</td>\n",
       "      <td>[₹216]</td>\n",
       "    </tr>\n",
       "    <tr>\n",
       "      <th>1</th>\n",
       "      <td>[Silver Kartz]</td>\n",
       "      <td>[UV Protection Wayfarer Sunglasses (Free Size)]</td>\n",
       "      <td>[₹232]</td>\n",
       "    </tr>\n",
       "    <tr>\n",
       "      <th>2</th>\n",
       "      <td>[SRPM]</td>\n",
       "      <td>[UV Protection Wayfarer Sunglasses (50)]</td>\n",
       "      <td>[₹149]</td>\n",
       "    </tr>\n",
       "    <tr>\n",
       "      <th>3</th>\n",
       "      <td>[Elligator]</td>\n",
       "      <td>[UV Protection Cat-eye,  Retro Square,  Oval, ...</td>\n",
       "      <td>[₹149]</td>\n",
       "    </tr>\n",
       "    <tr>\n",
       "      <th>4</th>\n",
       "      <td>[Elligator]</td>\n",
       "      <td>[UV Protection Wayfarer Sunglasses (53)]</td>\n",
       "      <td>[₹149]</td>\n",
       "    </tr>\n",
       "    <tr>\n",
       "      <th>...</th>\n",
       "      <td>...</td>\n",
       "      <td>...</td>\n",
       "      <td>...</td>\n",
       "    </tr>\n",
       "    <tr>\n",
       "      <th>95</th>\n",
       "      <td>[Dervin]</td>\n",
       "      <td>[UV Protection Wayfarer Sunglasses (Free Size)]</td>\n",
       "      <td>[₹234]</td>\n",
       "    </tr>\n",
       "    <tr>\n",
       "      <th>96</th>\n",
       "      <td>[Fastrack]</td>\n",
       "      <td>[Gradient,  UV Protection Wayfarer Sunglasses ...</td>\n",
       "      <td>[₹489]</td>\n",
       "    </tr>\n",
       "    <tr>\n",
       "      <th>97</th>\n",
       "      <td>[Fastrack]</td>\n",
       "      <td>[UV Protection Aviator Sunglasses (Free Size)]</td>\n",
       "      <td>[₹549]</td>\n",
       "    </tr>\n",
       "    <tr>\n",
       "      <th>98</th>\n",
       "      <td>[Fastrack]</td>\n",
       "      <td>[UV Protection Aviator Sunglasses (58)]</td>\n",
       "      <td>[₹909]</td>\n",
       "    </tr>\n",
       "    <tr>\n",
       "      <th>99</th>\n",
       "      <td>[Resist]</td>\n",
       "      <td>[Polarized Wayfarer Sunglasses (Free Size)]</td>\n",
       "      <td>[₹1,399]</td>\n",
       "    </tr>\n",
       "  </tbody>\n",
       "</table>\n",
       "<p>100 rows × 3 columns</p>\n",
       "</div>"
      ],
      "text/plain": [
       "   Sunglass Brands                              Production Descripion  \\\n",
       "0         [Dervin]    [UV Protection Wayfarer Sunglasses (Free Size)]   \n",
       "1   [Silver Kartz]    [UV Protection Wayfarer Sunglasses (Free Size)]   \n",
       "2           [SRPM]           [UV Protection Wayfarer Sunglasses (50)]   \n",
       "3      [Elligator]  [UV Protection Cat-eye,  Retro Square,  Oval, ...   \n",
       "4      [Elligator]           [UV Protection Wayfarer Sunglasses (53)]   \n",
       "..             ...                                                ...   \n",
       "95        [Dervin]    [UV Protection Wayfarer Sunglasses (Free Size)]   \n",
       "96      [Fastrack]  [Gradient,  UV Protection Wayfarer Sunglasses ...   \n",
       "97      [Fastrack]     [UV Protection Aviator Sunglasses (Free Size)]   \n",
       "98      [Fastrack]            [UV Protection Aviator Sunglasses (58)]   \n",
       "99        [Resist]        [Polarized Wayfarer Sunglasses (Free Size)]   \n",
       "\n",
       "   Sunglass Price  \n",
       "0          [₹216]  \n",
       "1          [₹232]  \n",
       "2          [₹149]  \n",
       "3          [₹149]  \n",
       "4          [₹149]  \n",
       "..            ...  \n",
       "95         [₹234]  \n",
       "96         [₹489]  \n",
       "97         [₹549]  \n",
       "98         [₹909]  \n",
       "99       [₹1,399]  \n",
       "\n",
       "[100 rows x 3 columns]"
      ]
     },
     "execution_count": 53,
     "metadata": {},
     "output_type": "execute_result"
    }
   ],
   "source": [
    "#Lets make datafram\n",
    "import pandas as pd\n",
    "sunglass=pd.DataFrame({\"Sunglass Brands\":brands,\"Production Descripion\":prod_des,\"Sunglass Price\":price})\n",
    "sunglass"
   ]
  },
  {
   "cell_type": "markdown",
   "id": "ccb08c09",
   "metadata": {},
   "source": [
    "# Q5: Scrape 100 reviews data from flipkart.com for iphone11 phone. You have to go the link:"
   ]
  },
  {
   "cell_type": "markdown",
   "id": "e0164a2f",
   "metadata": {},
   "source": [
    "When you will open the above link you will reach to the below shown webpage .\n",
    "\n",
    "As shown in the above page you have to scrape the tick marked attributes.These are:"
   ]
  },
  {
   "cell_type": "markdown",
   "id": "be3f3f07",
   "metadata": {},
   "source": [
    "1.Rating\n",
    "\n",
    "2.Review summary\n",
    "\n",
    "3.Full review\n",
    "\n",
    "4.You have to scrape this data for first 100 reviews."
   ]
  },
  {
   "cell_type": "code",
   "execution_count": 54,
   "id": "021b3fa0",
   "metadata": {},
   "outputs": [],
   "source": [
    "url=\"https://www.flipkart.com/apple-iphone-11-black-64-gb/p/itm4e5041ba101fd\" # Here i am assigning the link in url name variable \n",
    "driver.get(url) #here using the get method to access the link\n"
   ]
  },
  {
   "cell_type": "code",
   "execution_count": 55,
   "id": "b068da76",
   "metadata": {},
   "outputs": [],
   "source": [
    "#Clicking using absolute xpath function\n",
    "rating_review=driver.find_element(By.XPATH,\"/html/body/div[1]/div/div[3]/div[1]/div[2]/div[9]/div[7]/div/a/div\")\n",
    "rating_review.click()"
   ]
  },
  {
   "cell_type": "code",
   "execution_count": 56,
   "id": "bd94c255",
   "metadata": {},
   "outputs": [
    {
     "data": {
      "text/plain": [
       "100"
      ]
     },
     "execution_count": 56,
     "metadata": {},
     "output_type": "execute_result"
    }
   ],
   "source": [
    "Rating = []\n",
    "start=0\n",
    "end=11\n",
    "for page in range(start,end,1):\n",
    "    rating = driver.find_elements(By.XPATH,\"//div[@class='_3LWZlK _1BLPMq']\")\n",
    "    for i in rating:\n",
    "        Rating.append(i.text)\n",
    "    \n",
    "    time.sleep(3)\n",
    "Rating=Rating[0:100]\n",
    "len(Rating)\n",
    "    "
   ]
  },
  {
   "cell_type": "code",
   "execution_count": 57,
   "id": "7ed2246e",
   "metadata": {},
   "outputs": [
    {
     "data": {
      "text/plain": [
       "100"
      ]
     },
     "execution_count": 57,
     "metadata": {},
     "output_type": "execute_result"
    }
   ],
   "source": [
    "Review = []\n",
    "start=0\n",
    "end=11\n",
    "for page in range(end,start,-1):\n",
    "    review = driver.find_elements(By.XPATH,\"//p[@class='_2-N8zT']\")\n",
    "    for i in review:\n",
    "        Review.append(i.text)\n",
    "    \n",
    "    time.sleep(3)\n",
    "Review=Review[0:100]\n",
    "len(Review)"
   ]
  },
  {
   "cell_type": "code",
   "execution_count": 58,
   "id": "bca5094f",
   "metadata": {},
   "outputs": [
    {
     "data": {
      "text/plain": [
       "100"
      ]
     },
     "execution_count": 58,
     "metadata": {},
     "output_type": "execute_result"
    }
   ],
   "source": [
    "Full_review = []\n",
    "start=0\n",
    "end=11\n",
    "for page in range(start,end,1):\n",
    "    review = driver.find_elements(By.XPATH,\"//div[@class='t-ZTKy']\")\n",
    "    for i in review:\n",
    "        Full_review.append(i.text)\n",
    "    \n",
    "    \n",
    "Full_review=Full_review[0:100]\n",
    "len(Full_review)"
   ]
  },
  {
   "cell_type": "code",
   "execution_count": 59,
   "id": "3a2e6511",
   "metadata": {},
   "outputs": [
    {
     "data": {
      "text/html": [
       "<div>\n",
       "<style scoped>\n",
       "    .dataframe tbody tr th:only-of-type {\n",
       "        vertical-align: middle;\n",
       "    }\n",
       "\n",
       "    .dataframe tbody tr th {\n",
       "        vertical-align: top;\n",
       "    }\n",
       "\n",
       "    .dataframe thead th {\n",
       "        text-align: right;\n",
       "    }\n",
       "</style>\n",
       "<table border=\"1\" class=\"dataframe\">\n",
       "  <thead>\n",
       "    <tr style=\"text-align: right;\">\n",
       "      <th></th>\n",
       "      <th>I Phone 11 Rating</th>\n",
       "      <th>I Phone Review</th>\n",
       "      <th>Full Review</th>\n",
       "    </tr>\n",
       "  </thead>\n",
       "  <tbody>\n",
       "    <tr>\n",
       "      <th>0</th>\n",
       "      <td>5</td>\n",
       "      <td>Simply awesome</td>\n",
       "      <td>Really satisfied with the Product I received.....</td>\n",
       "    </tr>\n",
       "    <tr>\n",
       "      <th>1</th>\n",
       "      <td>5</td>\n",
       "      <td>Perfect product!</td>\n",
       "      <td>Amazing phone with great cameras and better ba...</td>\n",
       "    </tr>\n",
       "    <tr>\n",
       "      <th>2</th>\n",
       "      <td>5</td>\n",
       "      <td>Best in the market!</td>\n",
       "      <td>Great iPhone very snappy experience as apple k...</td>\n",
       "    </tr>\n",
       "    <tr>\n",
       "      <th>3</th>\n",
       "      <td>4</td>\n",
       "      <td>Value-for-money</td>\n",
       "      <td>I'm Really happy with the product\\nDelivery wa...</td>\n",
       "    </tr>\n",
       "    <tr>\n",
       "      <th>4</th>\n",
       "      <td>5</td>\n",
       "      <td>Highly recommended</td>\n",
       "      <td>It's my first time to use iOS phone and I am l...</td>\n",
       "    </tr>\n",
       "    <tr>\n",
       "      <th>...</th>\n",
       "      <td>...</td>\n",
       "      <td>...</td>\n",
       "      <td>...</td>\n",
       "    </tr>\n",
       "    <tr>\n",
       "      <th>95</th>\n",
       "      <td>5</td>\n",
       "      <td>Worth every penny</td>\n",
       "      <td>Previously I was using one plus 3t it was a gr...</td>\n",
       "    </tr>\n",
       "    <tr>\n",
       "      <th>96</th>\n",
       "      <td>4</td>\n",
       "      <td>Pretty good</td>\n",
       "      <td>I was using Iphone 6s and also Oneplus 6t. Bot...</td>\n",
       "    </tr>\n",
       "    <tr>\n",
       "      <th>97</th>\n",
       "      <td>5</td>\n",
       "      <td>Perfect product!</td>\n",
       "      <td>Value for money\\n5 star rating\\nExcellent came...</td>\n",
       "    </tr>\n",
       "    <tr>\n",
       "      <th>98</th>\n",
       "      <td>5</td>\n",
       "      <td>Highly recommended</td>\n",
       "      <td>What a camera .....just awesome ..you can feel...</td>\n",
       "    </tr>\n",
       "    <tr>\n",
       "      <th>99</th>\n",
       "      <td>5</td>\n",
       "      <td>Great product</td>\n",
       "      <td>Amazing Powerful and Durable Gadget.\\n\\nI’m am...</td>\n",
       "    </tr>\n",
       "  </tbody>\n",
       "</table>\n",
       "<p>100 rows × 3 columns</p>\n",
       "</div>"
      ],
      "text/plain": [
       "   I Phone 11 Rating       I Phone Review  \\\n",
       "0                  5       Simply awesome   \n",
       "1                  5     Perfect product!   \n",
       "2                  5  Best in the market!   \n",
       "3                  4      Value-for-money   \n",
       "4                  5   Highly recommended   \n",
       "..               ...                  ...   \n",
       "95                 5    Worth every penny   \n",
       "96                 4          Pretty good   \n",
       "97                 5     Perfect product!   \n",
       "98                 5   Highly recommended   \n",
       "99                 5        Great product   \n",
       "\n",
       "                                          Full Review  \n",
       "0   Really satisfied with the Product I received.....  \n",
       "1   Amazing phone with great cameras and better ba...  \n",
       "2   Great iPhone very snappy experience as apple k...  \n",
       "3   I'm Really happy with the product\\nDelivery wa...  \n",
       "4   It's my first time to use iOS phone and I am l...  \n",
       "..                                                ...  \n",
       "95  Previously I was using one plus 3t it was a gr...  \n",
       "96  I was using Iphone 6s and also Oneplus 6t. Bot...  \n",
       "97  Value for money\\n5 star rating\\nExcellent came...  \n",
       "98  What a camera .....just awesome ..you can feel...  \n",
       "99  Amazing Powerful and Durable Gadget.\\n\\nI’m am...  \n",
       "\n",
       "[100 rows x 3 columns]"
      ]
     },
     "execution_count": 59,
     "metadata": {},
     "output_type": "execute_result"
    }
   ],
   "source": [
    "#Lets Make Data Frame\n",
    "import pandas as pd\n",
    "i_phone=pd.DataFrame({\"I Phone 11 Rating\":Rating,\"I Phone Review\":Review,\"Full Review\":Full_review})\n",
    "i_phone"
   ]
  },
  {
   "cell_type": "markdown",
   "id": "51909233",
   "metadata": {},
   "source": [
    "# Q6: Scrape data for first 100 sneakers you find when you visit flipkart.com and search for “sneakers” in the search field. You have to scrape 4 attributes of each sneaker:"
   ]
  },
  {
   "cell_type": "markdown",
   "id": "d0623274",
   "metadata": {},
   "source": [
    "1.Brand\n",
    "\n",
    "2.Product Description\n",
    "\n",
    "3.Price\n",
    "\n",
    "As shown in the below image, you have to scrape the tick marked attributes"
   ]
  },
  {
   "cell_type": "code",
   "execution_count": 60,
   "id": "07de8663",
   "metadata": {},
   "outputs": [],
   "source": [
    "url=\"https://www.flipkart.com/\" # Here i am assigning the link in url namea variable \n",
    "driver.get(url) #here using the get method to access the link"
   ]
  },
  {
   "cell_type": "code",
   "execution_count": 61,
   "id": "952ac577",
   "metadata": {},
   "outputs": [],
   "source": [
    "#Finding the web element for search \"Data Analyst\"\n",
    "search_job=driver.find_element(By.CLASS_NAME,\"_3704LK\")\n",
    "search_job.send_keys(\"sneakers\")"
   ]
  },
  {
   "cell_type": "code",
   "execution_count": 62,
   "id": "3ce30113",
   "metadata": {},
   "outputs": [],
   "source": [
    "#Clicking using absolute xpath function\n",
    "search_btn=driver.find_element(By.CLASS_NAME,\"L0Z3Pu\")\n",
    "search_btn.click()"
   ]
  },
  {
   "cell_type": "code",
   "execution_count": 63,
   "id": "2b953956",
   "metadata": {},
   "outputs": [
    {
     "data": {
      "text/plain": [
       "100"
      ]
     },
     "execution_count": 63,
     "metadata": {},
     "output_type": "execute_result"
    }
   ],
   "source": [
    "#Lets find 100 Brands name\n",
    "brand=[]\n",
    "\n",
    "start=0\n",
    "end=3\n",
    "\n",
    "                         \n",
    "for page in range(start,end):\n",
    "    Brand=driver.find_elements(By.XPATH,\"//div[@class='_2WkVRV']\")\n",
    "    for i in Brand:\n",
    "        brand.append(i.text)\n",
    "brand=brand[0:100]\n",
    "len(brand)"
   ]
  },
  {
   "cell_type": "code",
   "execution_count": 64,
   "id": "d77aacdb",
   "metadata": {},
   "outputs": [
    {
     "data": {
      "text/plain": [
       "100"
      ]
     },
     "execution_count": 64,
     "metadata": {},
     "output_type": "execute_result"
    }
   ],
   "source": [
    "price=[]\n",
    "start=0\n",
    "end=3\n",
    "for page in range(start,3):\n",
    "    Price=driver.find_elements(By.XPATH,\"//div[@class='_30jeq3']\")\n",
    "    for i in Price:\n",
    "        price.append(i.text)\n",
    "price=price[0:100]\n",
    "len(price)"
   ]
  },
  {
   "cell_type": "code",
   "execution_count": 65,
   "id": "8198a614",
   "metadata": {},
   "outputs": [
    {
     "data": {
      "text/plain": [
       "100"
      ]
     },
     "execution_count": 65,
     "metadata": {},
     "output_type": "execute_result"
    }
   ],
   "source": [
    "prod_des=[]\n",
    "start=0\n",
    "end=3\n",
    "for page in range(start,end):\n",
    "    \n",
    "    title_tag=driver.find_elements(By.XPATH,\"//a[@class='IRpwTa']\")\n",
    "    for i in title_tag:\n",
    "        prod_des.append(i.text)\n",
    "prod_des=prod_des[0:100]\n",
    "len(prod_des)"
   ]
  },
  {
   "cell_type": "code",
   "execution_count": 66,
   "id": "e27c7b65",
   "metadata": {},
   "outputs": [
    {
     "name": "stdout",
     "output_type": "stream",
     "text": [
      "(100, 3)\n"
     ]
    },
    {
     "data": {
      "text/html": [
       "<div>\n",
       "<style scoped>\n",
       "    .dataframe tbody tr th:only-of-type {\n",
       "        vertical-align: middle;\n",
       "    }\n",
       "\n",
       "    .dataframe tbody tr th {\n",
       "        vertical-align: top;\n",
       "    }\n",
       "\n",
       "    .dataframe thead th {\n",
       "        text-align: right;\n",
       "    }\n",
       "</style>\n",
       "<table border=\"1\" class=\"dataframe\">\n",
       "  <thead>\n",
       "    <tr style=\"text-align: right;\">\n",
       "      <th></th>\n",
       "      <th>Sneaker Brank</th>\n",
       "      <th>Sneaker Price</th>\n",
       "      <th>Sneaker Description</th>\n",
       "    </tr>\n",
       "  </thead>\n",
       "  <tbody>\n",
       "    <tr>\n",
       "      <th>0</th>\n",
       "      <td>HOTSTYLE</td>\n",
       "      <td>₹269</td>\n",
       "      <td>Sneakers For Men</td>\n",
       "    </tr>\n",
       "    <tr>\n",
       "      <th>1</th>\n",
       "      <td>RapidBox</td>\n",
       "      <td>₹571</td>\n",
       "      <td>Sneakers For Men</td>\n",
       "    </tr>\n",
       "    <tr>\n",
       "      <th>2</th>\n",
       "      <td>SFR</td>\n",
       "      <td>₹299</td>\n",
       "      <td>Sneakers For Men</td>\n",
       "    </tr>\n",
       "    <tr>\n",
       "      <th>3</th>\n",
       "      <td>aadi</td>\n",
       "      <td>₹399</td>\n",
       "      <td>Synthetic Leather |Lightweight|Comfort|Summer|...</td>\n",
       "    </tr>\n",
       "    <tr>\n",
       "      <th>4</th>\n",
       "      <td>AMICO</td>\n",
       "      <td>₹387</td>\n",
       "      <td>Sneakers For Men</td>\n",
       "    </tr>\n",
       "  </tbody>\n",
       "</table>\n",
       "</div>"
      ],
      "text/plain": [
       "  Sneaker Brank Sneaker Price  \\\n",
       "0      HOTSTYLE          ₹269   \n",
       "1      RapidBox          ₹571   \n",
       "2           SFR          ₹299   \n",
       "3          aadi          ₹399   \n",
       "4         AMICO          ₹387   \n",
       "\n",
       "                                 Sneaker Description  \n",
       "0                                   Sneakers For Men  \n",
       "1                                   Sneakers For Men  \n",
       "2                                   Sneakers For Men  \n",
       "3  Synthetic Leather |Lightweight|Comfort|Summer|...  \n",
       "4                                   Sneakers For Men  "
      ]
     },
     "execution_count": 66,
     "metadata": {},
     "output_type": "execute_result"
    }
   ],
   "source": [
    "#Lets Make DataFrame\n",
    "import pandas as pd\n",
    "sneaker=pd.DataFrame({\"Sneaker Brank\":brand,\"Sneaker Price\":price,\"Sneaker Description\":prod_des})\n",
    "print(sneaker.shape)\n",
    "sneaker.head()"
   ]
  },
  {
   "cell_type": "markdown",
   "id": "75fafa9f",
   "metadata": {},
   "source": [
    "# Q7: Go to webpage https://www.amazon.in/\n",
    "Enter “Laptop” in the search field and then click the search icon.\n",
    "\n",
    "Then set CPU Type filter to “Intel Core i7” as shown in the below image:\n",
    "\n",
    "After setting the filters scrape first 10 laptops data. You have to scrape 3 attributesfor each laptop:\n",
    "\n",
    "1.Title\n",
    "\n",
    "2.Ratings\n",
    "\n",
    "3.Price"
   ]
  },
  {
   "cell_type": "code",
   "execution_count": 67,
   "id": "52739311",
   "metadata": {},
   "outputs": [],
   "source": [
    "url=\"https://www.amazon.in/\"\n",
    "driver.get(url)"
   ]
  },
  {
   "cell_type": "code",
   "execution_count": 68,
   "id": "3e57ec58",
   "metadata": {},
   "outputs": [],
   "source": [
    "#Finding the web element for search \"laptop\"\n",
    "laptop=driver.find_element(By.XPATH,\"/html/body/div[1]/header/div/div[1]/div[2]/div/form/div[2]/div[1]/input\")\n",
    "laptop.send_keys(\"Laptop\")"
   ]
  },
  {
   "cell_type": "code",
   "execution_count": 69,
   "id": "3d822492",
   "metadata": {},
   "outputs": [],
   "source": [
    "#Clicking using absolute xpath function\n",
    "search=driver.find_element(By.XPATH,\"/html/body/div[1]/header/div/div[1]/div[2]/div/form/div[3]/div/span/input\")\n",
    "search.click()"
   ]
  },
  {
   "cell_type": "code",
   "execution_count": 70,
   "id": "08980d8a",
   "metadata": {},
   "outputs": [],
   "source": [
    "#Filter i7 processor\n",
    "pros=driver.find_element(By.XPATH,\"/html/body/div[1]/div[2]/div[1]/div[2]/div/div[3]/span/div[1]/div/div/div[6]/ul[6]/li[13]/span/a/span\")\n",
    "pros.click()"
   ]
  },
  {
   "cell_type": "code",
   "execution_count": 71,
   "id": "46c364c1",
   "metadata": {},
   "outputs": [
    {
     "data": {
      "text/plain": [
       "10"
      ]
     },
     "execution_count": 71,
     "metadata": {},
     "output_type": "execute_result"
    }
   ],
   "source": [
    "#Lets extract all web elements having Laptop Ratings Done by customer\n",
    "title=[]\n",
    "Title=driver.find_elements(By.XPATH,\"//span[@class='a-size-medium a-color-base a-text-normal']\")\n",
    "for i in Title:\n",
    "    title.append(i.text)\n",
    "title=title[0:10]\n",
    "len(title)"
   ]
  },
  {
   "cell_type": "code",
   "execution_count": 72,
   "id": "a352fb9e",
   "metadata": {},
   "outputs": [
    {
     "data": {
      "text/plain": [
       "10"
      ]
     },
     "execution_count": 72,
     "metadata": {},
     "output_type": "execute_result"
    }
   ],
   "source": [
    "#Lets extract all web elements having Ratings given by Customer\n",
    "ratings=[]\n",
    "Rating=driver.find_elements(By.XPATH,'//span[@class=\"a-size-base\"]')\n",
    "for i in Rating:\n",
    "    ratings.append(i.text)\n",
    "ratings=ratings[0:10]\n",
    "len(ratings)"
   ]
  },
  {
   "cell_type": "code",
   "execution_count": 73,
   "id": "2aafc3af",
   "metadata": {},
   "outputs": [
    {
     "data": {
      "text/plain": [
       "10"
      ]
     },
     "execution_count": 73,
     "metadata": {},
     "output_type": "execute_result"
    }
   ],
   "source": [
    "#Lets extract all web elements having Price\n",
    "price=[]\n",
    "Price=driver.find_elements(By.XPATH,\"//span[@class='a-price-whole']\")\n",
    "for i in Price:\n",
    "    price.append(i.text.split(\"[]\"))\n",
    "price=price[0:10]\n",
    "len(price)"
   ]
  },
  {
   "cell_type": "code",
   "execution_count": 74,
   "id": "57cfb546",
   "metadata": {},
   "outputs": [
    {
     "data": {
      "text/html": [
       "<div>\n",
       "<style scoped>\n",
       "    .dataframe tbody tr th:only-of-type {\n",
       "        vertical-align: middle;\n",
       "    }\n",
       "\n",
       "    .dataframe tbody tr th {\n",
       "        vertical-align: top;\n",
       "    }\n",
       "\n",
       "    .dataframe thead th {\n",
       "        text-align: right;\n",
       "    }\n",
       "</style>\n",
       "<table border=\"1\" class=\"dataframe\">\n",
       "  <thead>\n",
       "    <tr style=\"text-align: right;\">\n",
       "      <th></th>\n",
       "      <th>Laptop Title</th>\n",
       "      <th>Laptop Ratings</th>\n",
       "      <th>Laptop Price</th>\n",
       "    </tr>\n",
       "  </thead>\n",
       "  <tbody>\n",
       "    <tr>\n",
       "      <th>0</th>\n",
       "      <td>ASUS Zenbook Pro 14 Duo OLED (2022) Dual Scree...</td>\n",
       "      <td>3.3</td>\n",
       "      <td>[1,59,990]</td>\n",
       "    </tr>\n",
       "    <tr>\n",
       "      <th>1</th>\n",
       "      <td>ASUS Vivobook Pro 16, Intel Core i9 11th Gen, ...</td>\n",
       "      <td>3.5</td>\n",
       "      <td>[88,750]</td>\n",
       "    </tr>\n",
       "    <tr>\n",
       "      <th>2</th>\n",
       "      <td>Dell G15-5520 Gaming Laptop, Intel i9-12900H, ...</td>\n",
       "      <td>4.0</td>\n",
       "      <td>[1,38,990]</td>\n",
       "    </tr>\n",
       "    <tr>\n",
       "      <th>3</th>\n",
       "      <td>HP Omen 12th Gen Intel Core i9-12900HX 17.3 in...</td>\n",
       "      <td>3.0</td>\n",
       "      <td>[2,96,000]</td>\n",
       "    </tr>\n",
       "    <tr>\n",
       "      <th>4</th>\n",
       "      <td>MSI Raider GE78HX, Intel 13th Gen. i9-13980HX,...</td>\n",
       "      <td>2.0</td>\n",
       "      <td>[5,47,563]</td>\n",
       "    </tr>\n",
       "    <tr>\n",
       "      <th>5</th>\n",
       "      <td>MSI Titan GT77 HX, Intel 13th Gen. i9-13980HX,...</td>\n",
       "      <td>3.8</td>\n",
       "      <td>[6,57,036]</td>\n",
       "    </tr>\n",
       "    <tr>\n",
       "      <th>6</th>\n",
       "      <td>Dell New Alienware x15 R2 Gaming Laptop, Intel...</td>\n",
       "      <td>4.1</td>\n",
       "      <td>[3,56,600]</td>\n",
       "    </tr>\n",
       "    <tr>\n",
       "      <th>7</th>\n",
       "      <td>ASUS ROG Zephyrus M16 (2023), Intel Core i9 13...</td>\n",
       "      <td>3.9</td>\n",
       "      <td>[3,64,990]</td>\n",
       "    </tr>\n",
       "    <tr>\n",
       "      <th>8</th>\n",
       "      <td>Lenovo Thinkpad P15v 12th Gen Intel Core i9 15...</td>\n",
       "      <td>3.2</td>\n",
       "      <td>[2,45,990]</td>\n",
       "    </tr>\n",
       "    <tr>\n",
       "      <th>9</th>\n",
       "      <td>Acer Predator Helios 500 Gaming Laptop (11Th G...</td>\n",
       "      <td>5.0</td>\n",
       "      <td>[4,38,383]</td>\n",
       "    </tr>\n",
       "  </tbody>\n",
       "</table>\n",
       "</div>"
      ],
      "text/plain": [
       "                                        Laptop Title Laptop Ratings  \\\n",
       "0  ASUS Zenbook Pro 14 Duo OLED (2022) Dual Scree...            3.3   \n",
       "1  ASUS Vivobook Pro 16, Intel Core i9 11th Gen, ...            3.5   \n",
       "2  Dell G15-5520 Gaming Laptop, Intel i9-12900H, ...            4.0   \n",
       "3  HP Omen 12th Gen Intel Core i9-12900HX 17.3 in...            3.0   \n",
       "4  MSI Raider GE78HX, Intel 13th Gen. i9-13980HX,...            2.0   \n",
       "5  MSI Titan GT77 HX, Intel 13th Gen. i9-13980HX,...            3.8   \n",
       "6  Dell New Alienware x15 R2 Gaming Laptop, Intel...            4.1   \n",
       "7  ASUS ROG Zephyrus M16 (2023), Intel Core i9 13...            3.9   \n",
       "8  Lenovo Thinkpad P15v 12th Gen Intel Core i9 15...            3.2   \n",
       "9  Acer Predator Helios 500 Gaming Laptop (11Th G...            5.0   \n",
       "\n",
       "  Laptop Price  \n",
       "0   [1,59,990]  \n",
       "1     [88,750]  \n",
       "2   [1,38,990]  \n",
       "3   [2,96,000]  \n",
       "4   [5,47,563]  \n",
       "5   [6,57,036]  \n",
       "6   [3,56,600]  \n",
       "7   [3,64,990]  \n",
       "8   [2,45,990]  \n",
       "9   [4,38,383]  "
      ]
     },
     "execution_count": 74,
     "metadata": {},
     "output_type": "execute_result"
    }
   ],
   "source": [
    "#Lets Make DataFrame\n",
    "import pandas as pd\n",
    "laptop=pd.DataFrame({\"Laptop Title\":title,\"Laptop Ratings\":ratings,\"Laptop Price\":price})\n",
    "laptop"
   ]
  },
  {
   "cell_type": "markdown",
   "id": "a4379f62",
   "metadata": {},
   "source": [
    "# Q8: Write a python program to scrape data for Top 1000 Quotes of All Time.\n",
    "The above task will be done in following steps:\n",
    "\n",
    "First get the webpage https://www.azquotes.com/\n",
    "\n",
    "Click on Top Quotes\n",
    "\n",
    "Than scrap\n",
    "\n",
    "a) Quote\n",
    "\n",
    "b) Author\n",
    "\n",
    "c)Type of Quote"
   ]
  },
  {
   "cell_type": "code",
   "execution_count": 4,
   "id": "b892a08e",
   "metadata": {},
   "outputs": [],
   "source": [
    "url=\"https://www.azquotes.com/\" # Here i am assigning the link in url namea variable \n",
    "driver.get(url) #here using the get method to access the link"
   ]
  },
  {
   "cell_type": "code",
   "execution_count": 5,
   "id": "6533698b",
   "metadata": {},
   "outputs": [],
   "source": [
    "#Clicking using absolute xpath function\n",
    "top_quotes=driver.find_element(By.XPATH,\"/html/body/div[1]/div[2]/div/div/div/div[1]/div/h1\")\n",
    "top_quotes.click()"
   ]
  },
  {
   "cell_type": "code",
   "execution_count": 16,
   "id": "2f106e0e",
   "metadata": {},
   "outputs": [
    {
     "name": "stdout",
     "output_type": "stream",
     "text": [
      "1000\n"
     ]
    }
   ],
   "source": [
    "#Lets find 1000 Quotes\n",
    "quote=[]\n",
    "\n",
    "start=0\n",
    "end=1000\n",
    "\n",
    "                         \n",
    "for page in range(start,end):\n",
    "    Quote=driver.find_elements(By.XPATH,\"/html/body/div[1]/div[2]/div/div/div/div[1]/div/h1\")\n",
    "    \n",
    "    for i in Quote:\n",
    "        quote.append(i.text)\n",
    "    \n",
    "\n",
    "print(len(quote))"
   ]
  },
  {
   "cell_type": "code",
   "execution_count": 17,
   "id": "f54ae726",
   "metadata": {},
   "outputs": [
    {
     "name": "stdout",
     "output_type": "stream",
     "text": [
      "1000\n"
     ]
    }
   ],
   "source": [
    "#Lets find author name\n",
    "author=[]\n",
    "\n",
    "start=0\n",
    "end=1000\n",
    "\n",
    "                         \n",
    "for page in range(start,end):\n",
    "    Author=driver.find_elements(By.XPATH,\"/html/body/div[1]/div[2]/div/div/div/div[1]/div/ul/li[1]/div/div[1]/a\")\n",
    "    \n",
    "    for i in Author:\n",
    "        author.append(i.text)\n",
    "    \n",
    "    \n",
    "    \n",
    "print(len(author))"
   ]
  },
  {
   "cell_type": "code",
   "execution_count": 13,
   "id": "223b496e",
   "metadata": {},
   "outputs": [
    {
     "name": "stdout",
     "output_type": "stream",
     "text": [
      "1000\n"
     ]
    }
   ],
   "source": [
    "#Lets find Typeof Quote\n",
    "top=[]\n",
    "\n",
    "start=0\n",
    "end=1000\n",
    "\n",
    "                         \n",
    "for page in range(start,end):\n",
    "    TOP=driver.find_elements(By.XPATH,\"/html/body/div[1]/div[2]/div/div/div/div[1]/div/ul/li[1]/div/p/a[2]\")\n",
    "    \n",
    "    for i in TOP:\n",
    "        top.append(i.text)\n",
    "    \n",
    "    \n",
    "print(len(top))"
   ]
  },
  {
   "cell_type": "code",
   "execution_count": 18,
   "id": "1bd5c38f",
   "metadata": {},
   "outputs": [
    {
     "data": {
      "text/html": [
       "<div>\n",
       "<style scoped>\n",
       "    .dataframe tbody tr th:only-of-type {\n",
       "        vertical-align: middle;\n",
       "    }\n",
       "\n",
       "    .dataframe tbody tr th {\n",
       "        vertical-align: top;\n",
       "    }\n",
       "\n",
       "    .dataframe thead th {\n",
       "        text-align: right;\n",
       "    }\n",
       "</style>\n",
       "<table border=\"1\" class=\"dataframe\">\n",
       "  <thead>\n",
       "    <tr style=\"text-align: right;\">\n",
       "      <th></th>\n",
       "      <th>Best Quote</th>\n",
       "      <th>Best Author</th>\n",
       "      <th>Topic of Quote</th>\n",
       "    </tr>\n",
       "  </thead>\n",
       "  <tbody>\n",
       "    <tr>\n",
       "      <th>0</th>\n",
       "      <td>Top 1000 Quotes Of All Time</td>\n",
       "      <td>Michael Porter</td>\n",
       "      <td>The essence of strategy is choosing what not t...</td>\n",
       "    </tr>\n",
       "    <tr>\n",
       "      <th>1</th>\n",
       "      <td>Top 1000 Quotes Of All Time</td>\n",
       "      <td>Michael Porter</td>\n",
       "      <td>The essence of strategy is choosing what not t...</td>\n",
       "    </tr>\n",
       "    <tr>\n",
       "      <th>2</th>\n",
       "      <td>Top 1000 Quotes Of All Time</td>\n",
       "      <td>Michael Porter</td>\n",
       "      <td>The essence of strategy is choosing what not t...</td>\n",
       "    </tr>\n",
       "    <tr>\n",
       "      <th>3</th>\n",
       "      <td>Top 1000 Quotes Of All Time</td>\n",
       "      <td>Michael Porter</td>\n",
       "      <td>The essence of strategy is choosing what not t...</td>\n",
       "    </tr>\n",
       "    <tr>\n",
       "      <th>4</th>\n",
       "      <td>Top 1000 Quotes Of All Time</td>\n",
       "      <td>Michael Porter</td>\n",
       "      <td>The essence of strategy is choosing what not t...</td>\n",
       "    </tr>\n",
       "    <tr>\n",
       "      <th>...</th>\n",
       "      <td>...</td>\n",
       "      <td>...</td>\n",
       "      <td>...</td>\n",
       "    </tr>\n",
       "    <tr>\n",
       "      <th>995</th>\n",
       "      <td>Top 1000 Quotes Of All Time</td>\n",
       "      <td>Michael Porter</td>\n",
       "      <td>The essence of strategy is choosing what not t...</td>\n",
       "    </tr>\n",
       "    <tr>\n",
       "      <th>996</th>\n",
       "      <td>Top 1000 Quotes Of All Time</td>\n",
       "      <td>Michael Porter</td>\n",
       "      <td>The essence of strategy is choosing what not t...</td>\n",
       "    </tr>\n",
       "    <tr>\n",
       "      <th>997</th>\n",
       "      <td>Top 1000 Quotes Of All Time</td>\n",
       "      <td>Michael Porter</td>\n",
       "      <td>The essence of strategy is choosing what not t...</td>\n",
       "    </tr>\n",
       "    <tr>\n",
       "      <th>998</th>\n",
       "      <td>Top 1000 Quotes Of All Time</td>\n",
       "      <td>Michael Porter</td>\n",
       "      <td>The essence of strategy is choosing what not t...</td>\n",
       "    </tr>\n",
       "    <tr>\n",
       "      <th>999</th>\n",
       "      <td>Top 1000 Quotes Of All Time</td>\n",
       "      <td>Michael Porter</td>\n",
       "      <td>The essence of strategy is choosing what not t...</td>\n",
       "    </tr>\n",
       "  </tbody>\n",
       "</table>\n",
       "<p>1000 rows × 3 columns</p>\n",
       "</div>"
      ],
      "text/plain": [
       "                      Best Quote     Best Author  \\\n",
       "0    Top 1000 Quotes Of All Time  Michael Porter   \n",
       "1    Top 1000 Quotes Of All Time  Michael Porter   \n",
       "2    Top 1000 Quotes Of All Time  Michael Porter   \n",
       "3    Top 1000 Quotes Of All Time  Michael Porter   \n",
       "4    Top 1000 Quotes Of All Time  Michael Porter   \n",
       "..                           ...             ...   \n",
       "995  Top 1000 Quotes Of All Time  Michael Porter   \n",
       "996  Top 1000 Quotes Of All Time  Michael Porter   \n",
       "997  Top 1000 Quotes Of All Time  Michael Porter   \n",
       "998  Top 1000 Quotes Of All Time  Michael Porter   \n",
       "999  Top 1000 Quotes Of All Time  Michael Porter   \n",
       "\n",
       "                                        Topic of Quote  \n",
       "0    The essence of strategy is choosing what not t...  \n",
       "1    The essence of strategy is choosing what not t...  \n",
       "2    The essence of strategy is choosing what not t...  \n",
       "3    The essence of strategy is choosing what not t...  \n",
       "4    The essence of strategy is choosing what not t...  \n",
       "..                                                 ...  \n",
       "995  The essence of strategy is choosing what not t...  \n",
       "996  The essence of strategy is choosing what not t...  \n",
       "997  The essence of strategy is choosing what not t...  \n",
       "998  The essence of strategy is choosing what not t...  \n",
       "999  The essence of strategy is choosing what not t...  \n",
       "\n",
       "[1000 rows x 3 columns]"
      ]
     },
     "execution_count": 18,
     "metadata": {},
     "output_type": "execute_result"
    }
   ],
   "source": [
    "#Lets MakeDataFrame\n",
    "import pandas as pd\n",
    "thousand_quote=pd.DataFrame({\"Best Quote\":quote,\"Best Author\":author,\"Topic of Quote\":top})\n",
    "thousand_quote"
   ]
  },
  {
   "cell_type": "markdown",
   "id": "e0a12415",
   "metadata": {},
   "source": [
    "# Q9: Write s python program to display list of respected former Prime Ministers of India(i.e. Name, Born-Dead,Term of office, Remarks) from https://www.jagranjosh.com/.\n",
    "This task will be done in following steps:\n",
    "\n",
    "1.First get the webpage https://www.jagranjosh.com/\n",
    "\n",
    "2.Then You have to click on the GK option\n",
    "\n",
    "3.Then click on the List of all Prime Ministers of India\n",
    "\n",
    "4.Then scrap the mentioned data and make the DataFrame."
   ]
  },
  {
   "cell_type": "code",
   "execution_count": 5,
   "id": "fc7eb355",
   "metadata": {},
   "outputs": [],
   "source": [
    "url=\"https://www.jagranjosh.com/\" # Here i am assigning the link in url name variable \n",
    "driver.get(url) #here using the get method to access the link"
   ]
  },
  {
   "cell_type": "code",
   "execution_count": 7,
   "id": "d64c5e3b",
   "metadata": {},
   "outputs": [],
   "source": [
    "#Clicking using absolute xpath function\n",
    "top_quotes=driver.find_element(By.XPATH,\"/html/body/div/div[1]/div/div[1]/div/div[5]/div/div[1]/header/div[3]/ul/li[9]/a\")\n",
    "top_quotes.click()"
   ]
  },
  {
   "cell_type": "code",
   "execution_count": 8,
   "id": "4f0928ad",
   "metadata": {},
   "outputs": [],
   "source": [
    "#Clicking using absolute xpath function and selecting list of prime mininster in india\n",
    "top_quotes=driver.find_element(By.XPATH,\"/html/body/div[1]/div/div/div[2]/div/div[10]/div/div/ul/li[2]/a\")\n",
    "                            \n",
    "top_quotes.click()\n",
    "\n"
   ]
  },
  {
   "cell_type": "code",
   "execution_count": 9,
   "id": "32fc0a9f",
   "metadata": {},
   "outputs": [
    {
     "data": {
      "text/plain": [
       "18"
      ]
     },
     "execution_count": 9,
     "metadata": {},
     "output_type": "execute_result"
    }
   ],
   "source": [
    "#Lets find PM name\n",
    "pm_name=[]\n",
    "Names = driver.find_elements(By.XPATH,'//div[@class=\"table-box\"]/table/tbody/tr/td[2]/p')\n",
    "\n",
    "for name in Names:\n",
    "\n",
    "    pm_name.append(name.text)\n",
    "len(pm_name)\n"
   ]
  },
  {
   "cell_type": "code",
   "execution_count": 13,
   "id": "d1fc1fd1",
   "metadata": {},
   "outputs": [
    {
     "data": {
      "text/plain": [
       "18"
      ]
     },
     "execution_count": 13,
     "metadata": {},
     "output_type": "execute_result"
    }
   ],
   "source": [
    "#Lets find born date and dead date\n",
    "born_dead=[]\n",
    "Born_dead=driver.find_elements(By.XPATH,\"//div[@class='table-box']/table/tbody/tr/td[3]/p\")\n",
    "for i in Born_dead:\n",
    "    born_dead.append(i.text)\n",
    "born_dead\n",
    "len(born_dead)\n"
   ]
  },
  {
   "cell_type": "code",
   "execution_count": 10,
   "id": "4d149f14",
   "metadata": {},
   "outputs": [
    {
     "data": {
      "text/plain": [
       "18"
      ]
     },
     "execution_count": 10,
     "metadata": {},
     "output_type": "execute_result"
    }
   ],
   "source": [
    "#Lets find term of office\n",
    "tof=[]\n",
    "term_office=driver.find_elements(By.XPATH,\"//div[@class='table-box']/table/tbody/tr/td[4]/p[1]\")\n",
    "for i in term_office:\n",
    "    tof.append(i.text)\n",
    "\n",
    "len(tof)"
   ]
  },
  {
   "cell_type": "code",
   "execution_count": 11,
   "id": "2fe1b199",
   "metadata": {},
   "outputs": [
    {
     "data": {
      "text/plain": [
       "18"
      ]
     },
     "execution_count": 11,
     "metadata": {},
     "output_type": "execute_result"
    }
   ],
   "source": [
    "#Lets find Remarks\n",
    "remark=[]\n",
    "Remark=driver.find_elements(By.XPATH,\"//div[@class='table-box']/table/tbody/tr/td[5]/p\")\n",
    "for i in Remark:\n",
    "    remark.append(i.text)\n",
    "len(remark)"
   ]
  },
  {
   "cell_type": "code",
   "execution_count": 14,
   "id": "c8f6c4af",
   "metadata": {},
   "outputs": [],
   "source": [
    "#Lets make dataframe\n",
    "import pandas as pd\n",
    "all_pm=pd.DataFrame({\"All PM name of india\":pm_name,\"Born-Dead\":born_dead,\"Term of office(Date)\":tof,\"Remark\":remark})"
   ]
  },
  {
   "cell_type": "code",
   "execution_count": 15,
   "id": "0e4bf921",
   "metadata": {},
   "outputs": [
    {
     "data": {
      "text/html": [
       "<div>\n",
       "<style scoped>\n",
       "    .dataframe tbody tr th:only-of-type {\n",
       "        vertical-align: middle;\n",
       "    }\n",
       "\n",
       "    .dataframe tbody tr th {\n",
       "        vertical-align: top;\n",
       "    }\n",
       "\n",
       "    .dataframe thead th {\n",
       "        text-align: right;\n",
       "    }\n",
       "</style>\n",
       "<table border=\"1\" class=\"dataframe\">\n",
       "  <thead>\n",
       "    <tr style=\"text-align: right;\">\n",
       "      <th></th>\n",
       "      <th>All PM name of india</th>\n",
       "      <th>Born-Dead</th>\n",
       "      <th>Term of office(Date)</th>\n",
       "      <th>Remark</th>\n",
       "    </tr>\n",
       "  </thead>\n",
       "  <tbody>\n",
       "    <tr>\n",
       "      <th>0</th>\n",
       "      <td>Jawahar Lal Nehru</td>\n",
       "      <td>(1889–1964)</td>\n",
       "      <td>15 August 1947 to 27 May 1964</td>\n",
       "      <td>The first prime minister of India and the long...</td>\n",
       "    </tr>\n",
       "    <tr>\n",
       "      <th>1</th>\n",
       "      <td>Gulzarilal Nanda (Acting)</td>\n",
       "      <td>(1898-1998)</td>\n",
       "      <td>27 May 1964 to 9 June 1964,</td>\n",
       "      <td>First acting PM of India</td>\n",
       "    </tr>\n",
       "    <tr>\n",
       "      <th>2</th>\n",
       "      <td>Lal Bahadur Shastri</td>\n",
       "      <td>(1904–1966)</td>\n",
       "      <td>9 June 1964 to 11 January 1966</td>\n",
       "      <td>He has given the slogan of 'Jai Jawan Jai Kisa...</td>\n",
       "    </tr>\n",
       "    <tr>\n",
       "      <th>3</th>\n",
       "      <td>Gulzari Lal Nanda  (Acting)</td>\n",
       "      <td>(1898-1998)</td>\n",
       "      <td>11 January 1966 to 24 January 1966</td>\n",
       "      <td>-</td>\n",
       "    </tr>\n",
       "    <tr>\n",
       "      <th>4</th>\n",
       "      <td>Indira Gandhi</td>\n",
       "      <td>(1917–1984)</td>\n",
       "      <td>24 January 1966 to 24 March 1977</td>\n",
       "      <td>First female Prime Minister of India</td>\n",
       "    </tr>\n",
       "    <tr>\n",
       "      <th>5</th>\n",
       "      <td>Morarji Desai</td>\n",
       "      <td>(1896–1995)</td>\n",
       "      <td>24 March 1977 to  28 July 1979</td>\n",
       "      <td>Oldest to become PM (81 years old) and first t...</td>\n",
       "    </tr>\n",
       "    <tr>\n",
       "      <th>6</th>\n",
       "      <td>Charan Singh</td>\n",
       "      <td>(1902–1987)</td>\n",
       "      <td>28 July 1979 to 14 January 1980</td>\n",
       "      <td>Only PM who did not face the Parliament</td>\n",
       "    </tr>\n",
       "    <tr>\n",
       "      <th>7</th>\n",
       "      <td>Indira Gandhi</td>\n",
       "      <td>(1917–1984)</td>\n",
       "      <td>14 January 1980 to 31 October 1984</td>\n",
       "      <td>The first lady who served as PM for the second...</td>\n",
       "    </tr>\n",
       "    <tr>\n",
       "      <th>8</th>\n",
       "      <td>Rajiv Gandhi</td>\n",
       "      <td>(1944–1991)</td>\n",
       "      <td>31 October 1984 to 2 December 1989</td>\n",
       "      <td>Youngest to become PM (40 years old)</td>\n",
       "    </tr>\n",
       "    <tr>\n",
       "      <th>9</th>\n",
       "      <td>V. P. Singh</td>\n",
       "      <td>(1931–2008)</td>\n",
       "      <td>2 December 1989 to 10 November 1990</td>\n",
       "      <td>First PM to step down after a vote of no confi...</td>\n",
       "    </tr>\n",
       "    <tr>\n",
       "      <th>10</th>\n",
       "      <td>Chandra Shekhar</td>\n",
       "      <td>(1927–2007)</td>\n",
       "      <td>10 November 1990 to 21 June 1991</td>\n",
       "      <td>He belongs to  Samajwadi Janata Party</td>\n",
       "    </tr>\n",
       "    <tr>\n",
       "      <th>11</th>\n",
       "      <td>P. V. Narasimha Rao</td>\n",
       "      <td>(1921–2004)</td>\n",
       "      <td>21 June 1991 to 16 May 1996</td>\n",
       "      <td>First PM from south India</td>\n",
       "    </tr>\n",
       "    <tr>\n",
       "      <th>12</th>\n",
       "      <td>Atal Bihari Vajpayee</td>\n",
       "      <td>(1924- 2018)</td>\n",
       "      <td>16 May 1996 to 1 June 1996</td>\n",
       "      <td>PM for shortest tenure</td>\n",
       "    </tr>\n",
       "    <tr>\n",
       "      <th>13</th>\n",
       "      <td>H. D. Deve Gowda</td>\n",
       "      <td>(born 1933)</td>\n",
       "      <td>1 June 1996 to 21 April 1997</td>\n",
       "      <td>He belongs to  Janata Dal</td>\n",
       "    </tr>\n",
       "    <tr>\n",
       "      <th>14</th>\n",
       "      <td>Inder Kumar Gujral</td>\n",
       "      <td>(1919–2012)</td>\n",
       "      <td>21 April 1997 to 19 March 1998</td>\n",
       "      <td>------</td>\n",
       "    </tr>\n",
       "    <tr>\n",
       "      <th>15</th>\n",
       "      <td>Atal Bihari Vajpayee</td>\n",
       "      <td>(1924-2018)</td>\n",
       "      <td>19 March 1998 to 22 May 2004</td>\n",
       "      <td>The first non-congress PM who completed a ful...</td>\n",
       "    </tr>\n",
       "    <tr>\n",
       "      <th>16</th>\n",
       "      <td>Manmohan Singh</td>\n",
       "      <td>(born 1932)</td>\n",
       "      <td>22 May 2004 to 26 May 2014</td>\n",
       "      <td>First Sikh PM</td>\n",
       "    </tr>\n",
       "    <tr>\n",
       "      <th>17</th>\n",
       "      <td>Narendra Modi</td>\n",
       "      <td>(born 1950)</td>\n",
       "      <td>26 May 2014 - Present</td>\n",
       "      <td>4th Prime Minister of India who served two con...</td>\n",
       "    </tr>\n",
       "  </tbody>\n",
       "</table>\n",
       "</div>"
      ],
      "text/plain": [
       "           All PM name of india     Born-Dead  \\\n",
       "0             Jawahar Lal Nehru   (1889–1964)   \n",
       "1     Gulzarilal Nanda (Acting)   (1898-1998)   \n",
       "2           Lal Bahadur Shastri   (1904–1966)   \n",
       "3   Gulzari Lal Nanda  (Acting)   (1898-1998)   \n",
       "4                 Indira Gandhi   (1917–1984)   \n",
       "5                 Morarji Desai   (1896–1995)   \n",
       "6                  Charan Singh   (1902–1987)   \n",
       "7                 Indira Gandhi   (1917–1984)   \n",
       "8                  Rajiv Gandhi   (1944–1991)   \n",
       "9                   V. P. Singh   (1931–2008)   \n",
       "10              Chandra Shekhar   (1927–2007)   \n",
       "11          P. V. Narasimha Rao   (1921–2004)   \n",
       "12         Atal Bihari Vajpayee  (1924- 2018)   \n",
       "13             H. D. Deve Gowda   (born 1933)   \n",
       "14           Inder Kumar Gujral   (1919–2012)   \n",
       "15         Atal Bihari Vajpayee   (1924-2018)   \n",
       "16               Manmohan Singh   (born 1932)   \n",
       "17                Narendra Modi   (born 1950)   \n",
       "\n",
       "                   Term of office(Date)  \\\n",
       "0         15 August 1947 to 27 May 1964   \n",
       "1           27 May 1964 to 9 June 1964,   \n",
       "2        9 June 1964 to 11 January 1966   \n",
       "3    11 January 1966 to 24 January 1966   \n",
       "4      24 January 1966 to 24 March 1977   \n",
       "5       24 March 1977 to  28 July 1979    \n",
       "6       28 July 1979 to 14 January 1980   \n",
       "7    14 January 1980 to 31 October 1984   \n",
       "8    31 October 1984 to 2 December 1989   \n",
       "9   2 December 1989 to 10 November 1990   \n",
       "10     10 November 1990 to 21 June 1991   \n",
       "11          21 June 1991 to 16 May 1996   \n",
       "12           16 May 1996 to 1 June 1996   \n",
       "13         1 June 1996 to 21 April 1997   \n",
       "14      21 April 1997 to 19 March 1998    \n",
       "15        19 March 1998 to 22 May 2004    \n",
       "16        22 May 2004 to 26 May 2014      \n",
       "17                26 May 2014 - Present   \n",
       "\n",
       "                                               Remark  \n",
       "0   The first prime minister of India and the long...  \n",
       "1                            First acting PM of India  \n",
       "2   He has given the slogan of 'Jai Jawan Jai Kisa...  \n",
       "3                                                   -  \n",
       "4                First female Prime Minister of India  \n",
       "5   Oldest to become PM (81 years old) and first t...  \n",
       "6             Only PM who did not face the Parliament  \n",
       "7   The first lady who served as PM for the second...  \n",
       "8                Youngest to become PM (40 years old)  \n",
       "9   First PM to step down after a vote of no confi...  \n",
       "10              He belongs to  Samajwadi Janata Party  \n",
       "11                          First PM from south India  \n",
       "12                             PM for shortest tenure  \n",
       "13                          He belongs to  Janata Dal  \n",
       "14                                             ------  \n",
       "15   The first non-congress PM who completed a ful...  \n",
       "16                                      First Sikh PM  \n",
       "17  4th Prime Minister of India who served two con...  "
      ]
     },
     "execution_count": 15,
     "metadata": {},
     "output_type": "execute_result"
    }
   ],
   "source": [
    "all_pm"
   ]
  },
  {
   "cell_type": "markdown",
   "id": "3bf8417f",
   "metadata": {},
   "source": [
    "# Q10: Write s python program to display list of 50 Most expensive cars in the world (i.e. Company name, Model name and Price) from https://www.motor1.com/\n",
    "This task will be done in following steps:\n",
    "\n",
    "1.First get the webpage https://www.motor1.com/\n",
    "\n",
    "2.Then You have to click on the List option from Dropdown menu on left side.\n",
    "\n",
    "3.Then click on 50 most expensive cars in the world..\n",
    "\n",
    "4.Then scrap the mentioned data and make the dataframe"
   ]
  },
  {
   "cell_type": "code",
   "execution_count": 5,
   "id": "eb7e4027",
   "metadata": {},
   "outputs": [],
   "source": [
    "url=\"https://www.motor1.com/\" # Here i am assigning the link in url name variable \n",
    "driver.get(url) #here using the get method to access the link"
   ]
  },
  {
   "cell_type": "code",
   "execution_count": 6,
   "id": "c0709542",
   "metadata": {},
   "outputs": [],
   "source": [
    "#Clicking using absolute xpath function\n",
    "three_dots=driver.find_element(By.XPATH,\"/html/body/div[3]/div[2]/div/div/div[1]/div\")\n",
    "three_dots.click()"
   ]
  },
  {
   "cell_type": "code",
   "execution_count": 9,
   "id": "c19772d7",
   "metadata": {},
   "outputs": [],
   "source": [
    "#Clicking using absolute xpath function\n",
    "list_option=driver.find_element(By.XPATH,\"/html/body/div[3]/div[5]/h1\")\n",
    "list_option.click()"
   ]
  },
  {
   "cell_type": "code",
   "execution_count": 8,
   "id": "88593673",
   "metadata": {},
   "outputs": [],
   "source": [
    "#Clicking using absolute xpath function\n",
    "most_expensive_car=driver.find_element(By.XPATH,\"/html/body/div[3]/div[5]/h1\")\n",
    "most_expensive_car.click()"
   ]
  },
  {
   "cell_type": "code",
   "execution_count": 19,
   "id": "749a11f9",
   "metadata": {},
   "outputs": [
    {
     "data": {
      "text/plain": [
       "50"
      ]
     },
     "execution_count": 19,
     "metadata": {},
     "output_type": "execute_result"
    }
   ],
   "source": [
    "#Lets Find Car Name\n",
    "car_name=[]\n",
    "Car_Name=driver.find_elements(By.XPATH,\"//h3[@class='subheader']\")\n",
    "for i in Car_Name:\n",
    "    car_name.append(i.text)\n",
    "\n",
    "\n",
    "\n",
    "\n",
    "\n",
    "car_name=car_name[0:50]\n",
    "len(car_name)"
   ]
  },
  {
   "cell_type": "code",
   "execution_count": 23,
   "id": "d8093a9b",
   "metadata": {},
   "outputs": [
    {
     "data": {
      "text/plain": [
       "50"
      ]
     },
     "execution_count": 23,
     "metadata": {},
     "output_type": "execute_result"
    }
   ],
   "source": [
    "#Lets Find Car Price/html/body/div[3]/div[7]/div[2]/div[1]/div[2]/div[1]/p[4]/strong\n",
    "car_price=[]\n",
    "\n",
    "Car_Price=driver.find_elements(By.XPATH,\"/html/body/div[3]/div[7]/div[2]/div[1]/div[2]/div[1]/p[4]\")\n",
    "for i in Car_Price:\n",
    "    car_price.append(i.text)\n",
    "car_price=car_name[0:50]    \n",
    "len(car_price)"
   ]
  },
  {
   "cell_type": "code",
   "execution_count": 24,
   "id": "7994783c",
   "metadata": {},
   "outputs": [
    {
     "name": "stdout",
     "output_type": "stream",
     "text": [
      "(50, 2)\n"
     ]
    },
    {
     "data": {
      "text/html": [
       "<div>\n",
       "<style scoped>\n",
       "    .dataframe tbody tr th:only-of-type {\n",
       "        vertical-align: middle;\n",
       "    }\n",
       "\n",
       "    .dataframe tbody tr th {\n",
       "        vertical-align: top;\n",
       "    }\n",
       "\n",
       "    .dataframe thead th {\n",
       "        text-align: right;\n",
       "    }\n",
       "</style>\n",
       "<table border=\"1\" class=\"dataframe\">\n",
       "  <thead>\n",
       "    <tr style=\"text-align: right;\">\n",
       "      <th></th>\n",
       "      <th>Car Name</th>\n",
       "      <th>Car Price</th>\n",
       "    </tr>\n",
       "  </thead>\n",
       "  <tbody>\n",
       "    <tr>\n",
       "      <th>0</th>\n",
       "      <td>De Tomaso P72</td>\n",
       "      <td>De Tomaso P72</td>\n",
       "    </tr>\n",
       "    <tr>\n",
       "      <th>1</th>\n",
       "      <td>Ferrari LaFerrari</td>\n",
       "      <td>Ferrari LaFerrari</td>\n",
       "    </tr>\n",
       "    <tr>\n",
       "      <th>2</th>\n",
       "      <td>Pagani Huayra</td>\n",
       "      <td>Pagani Huayra</td>\n",
       "    </tr>\n",
       "    <tr>\n",
       "      <th>3</th>\n",
       "      <td>McLaren Elva</td>\n",
       "      <td>McLaren Elva</td>\n",
       "    </tr>\n",
       "    <tr>\n",
       "      <th>4</th>\n",
       "      <td>Czinger 21C</td>\n",
       "      <td>Czinger 21C</td>\n",
       "    </tr>\n",
       "  </tbody>\n",
       "</table>\n",
       "</div>"
      ],
      "text/plain": [
       "            Car Name          Car Price\n",
       "0      De Tomaso P72      De Tomaso P72\n",
       "1  Ferrari LaFerrari  Ferrari LaFerrari\n",
       "2      Pagani Huayra      Pagani Huayra\n",
       "3       McLaren Elva       McLaren Elva\n",
       "4        Czinger 21C        Czinger 21C"
      ]
     },
     "execution_count": 24,
     "metadata": {},
     "output_type": "execute_result"
    }
   ],
   "source": [
    "#Lets Make DataFrame\n",
    "import pandas as pd\n",
    "best_car=pd.DataFrame({\"Car Name\":car_name,\"Car Price\":car_price})\n",
    "print(best_car.shape)\n",
    "best_car.head()"
   ]
  },
  {
   "cell_type": "code",
   "execution_count": null,
   "id": "d3d39e3a",
   "metadata": {},
   "outputs": [],
   "source": []
  },
  {
   "cell_type": "code",
   "execution_count": null,
   "id": "f2cd3154",
   "metadata": {},
   "outputs": [],
   "source": []
  },
  {
   "cell_type": "code",
   "execution_count": null,
   "id": "a31debe6",
   "metadata": {},
   "outputs": [],
   "source": []
  },
  {
   "cell_type": "code",
   "execution_count": null,
   "id": "c2eeeeae",
   "metadata": {},
   "outputs": [],
   "source": []
  }
 ],
 "metadata": {
  "kernelspec": {
   "display_name": "Python 3 (ipykernel)",
   "language": "python",
   "name": "python3"
  },
  "language_info": {
   "codemirror_mode": {
    "name": "ipython",
    "version": 3
   },
   "file_extension": ".py",
   "mimetype": "text/x-python",
   "name": "python",
   "nbconvert_exporter": "python",
   "pygments_lexer": "ipython3",
   "version": "3.9.13"
  }
 },
 "nbformat": 4,
 "nbformat_minor": 5
}
